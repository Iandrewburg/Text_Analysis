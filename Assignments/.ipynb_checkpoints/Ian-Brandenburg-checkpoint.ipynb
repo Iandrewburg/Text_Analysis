{
 "cells": [
  {
   "cell_type": "markdown",
   "id": "09e62257-0276-4313-b5be-2d07d560f0b6",
   "metadata": {},
   "source": [
    "# Assignment 1: Text Analysis over Political Speaches\n",
    "\n",
    "You will be working with senator speeches located in the '105-extracted-date' folder within the 'Inputs' directory. Please complete the following tasks:\n",
    "\n",
    "i) Use cosine similarity to determine which senator's speech is closest to Senator Biden's. Describe your findings. Make sure to describe your text preprocessing and justify your choices. Validate your findings using 'sen105kh_fix.csv' and/or Wikipedia to see if the most similar speeches belong to senators from the same state and/or party. \n",
    "\n",
    "ii) How do your results change if you apply stemming or lemmatization? In your opinion, which is better to apply: stemming or lemmatization? Why?\n",
    "\n",
    "iii) Create at least two visualizations to support your analysis.\n",
    "\n",
    "iv) Use 'sen105kh_fix.csv' as the target variable for your predictions. Can you predict the 'party' of the senator from their speech? Should you use the same text preprocessing as above? Justify your choices. Probably going to use MultinomialNB() for prediction. In class, we predicted the label.\n",
    "\n",
    "v) Write a Medium article summarizing your findings. This article should be written with a general audience in mind. The best articles may be invited for submission to CEU Economic Threads.\n",
    "\n",
    "vi) Bonus 10 points: Read one of the articles that I have linked in this Medium post. Contrast your findings in i) with theirs and discuss any discrepancies. What are possible solutions?\n"
   ]
  },
  {
   "cell_type": "code",
   "execution_count": 1,
   "id": "3a2f1ba4-1667-47b4-b3e5-22ef61b28f51",
   "metadata": {},
   "outputs": [],
   "source": [
    "import os\n",
    "import time\n",
    "import re\n",
    "import pandas as pd\n",
    "import numpy as np\n",
    "import matplotlib as plt\n",
    "import matplotlib.pyplot as plt\n",
    "from matplotlib.patches import Patch\n",
    "\n",
    "from sklearn.feature_extraction.text import TfidfVectorizer, ENGLISH_STOP_WORDS\n",
    "from sklearn.metrics.pairwise import cosine_similarity\n",
    "from sklearn.model_selection import train_test_split\n",
    "from sklearn.naive_bayes import MultinomialNB\n",
    "from sklearn.metrics import accuracy_score, classification_report\n",
    "from sklearn.utils.class_weight import compute_class_weight\n",
    "from sklearn.svm import SVC\n",
    "\n",
    "import nltk\n",
    "from nltk.stem import PorterStemmer, WordNetLemmatizer\n",
    "from nltk import word_tokenize, pos_tag\n",
    "from nltk.corpus import wordnet\n",
    "\n",
    "# Initialize the tfidf vectorizers\n",
    "tfidf_vectorizer = TfidfVectorizer()\n",
    "tfidf_vectorizer_stem = TfidfVectorizer()\n",
    "tfidf_vectorizer_lem = TfidfVectorizer()\n",
    "\n",
    "# Initialize stemmer and lemmatizer\n",
    "ps = PorterStemmer()\n",
    "lemmatizer = WordNetLemmatizer()\n",
    "\n",
    "# Initialize the Multinomial Naive Bayes classifier\n",
    "model = MultinomialNB()"
   ]
  },
  {
   "cell_type": "code",
   "execution_count": 2,
   "id": "00e03875-0e14-4f81-be25-b9bc043a3c39",
   "metadata": {
    "tags": []
   },
   "outputs": [],
   "source": [
    "def read_speech(file_path):\n",
    "    with open(file_path, 'r') as file:\n",
    "        return file.read()\n",
    "\n",
    "def preprocess_text(text):\n",
    "    \"\"\"\n",
    "    Input: text\n",
    "    Output: Tokenized text that has been scrubbed. The text is\n",
    "    lower cased, and punctuation, numbers, and stopwords are removed.\n",
    "    \"\"\"\n",
    "    text = text.lower()\n",
    "    tokens = [word for word in text.split() if word.isalpha() and word not in ENGLISH_STOP_WORDS]\n",
    "    return ' '.join(tokens)\n",
    "\n",
    "def cosine_similarity_calc(tfidf_matrix, reference_index, labels):\n",
    "    \"\"\"\n",
    "    Calculate the cosine similarity of all speeches in the tfidf_matrix with respect to the speech at reference_index.\n",
    "    \n",
    "    Inputs:\n",
    "    - tfidf_matrix (array): The TF-IDF matrix where rows represent documents/speeches.\n",
    "    - reference_index (int): The index of the reference speech in the tfidf_matrix.\n",
    "    - labels (iterable): Identifiers for each speech/document in the tfidf_matrix.\n",
    "    \n",
    "    Returns:\n",
    "    - List of tuples: Each tuple contains (label, similarity score) sorted by similarity score in descending order.\n",
    "    \"\"\"\n",
    "    \n",
    "    # calculating the cosine similarity of the reference speech with all speeches\n",
    "    cosine_similarities = cosine_similarity(tfidf_matrix[reference_index:reference_index+1], tfidf_matrix).flatten()\n",
    "    \n",
    "    # creating a dictionary to hold the similarity scores, skipping the reference speech\n",
    "    similarity_scores = {label: score for label, score in zip(labels, cosine_similarities) if label != labels[reference_index]}\n",
    "    \n",
    "    # sort the labels by similarity score in descending order\n",
    "    sorted_similarities = sorted(similarity_scores.items(), key=lambda item: item[1], reverse=True)\n",
    "    \n",
    "    return sorted_similarities\n",
    "\n",
    "\n",
    "def stem_text(text):\n",
    "    \"\"\"\n",
    "    Apply Porter's Stemming to the given text.\n",
    "    \n",
    "    Args:\n",
    "    - text (str): Preprocessed text to stem.\n",
    "    \n",
    "    Returns:\n",
    "    - str: The stemmed text.\n",
    "    \"\"\"\n",
    "    stemmer = PorterStemmer()\n",
    "    tokens = text.split()\n",
    "    stemmed_tokens = [stemmer.stem(token) for token in tokens]\n",
    "    return ' '.join(stemmed_tokens)\n",
    "\n",
    "\n",
    "def lemmatize_text(text):\n",
    "    \"\"\"\n",
    "    Apply WordNet Lemmatizing to the given text.\n",
    "    \n",
    "    Args:\n",
    "    - text (str): Preprocessed text to lemmatize.\n",
    "    \n",
    "    Returns:\n",
    "    - str: The lemmatized text.\n",
    "    \"\"\"\n",
    "    lemmatizer = WordNetLemmatizer()\n",
    "    tokens = text.split()\n",
    "    lemmatized_tokens = [lemmatizer.lemmatize(token) for token in tokens]\n",
    "    return ' '.join(lemmatized_tokens)\n",
    "\n",
    "\n",
    "def print_senator_details(top_5_senators, senators_info):\n",
    "    \"\"\"\n",
    "    Prints details for the top 5 senators, including party and state, and their commonalities with Biden.\n",
    "    \n",
    "    Args:\n",
    "    - top_5_senators (list of str): A list of senator identifiers in the format 'last_name-state_abbr'.\n",
    "    - senators_info (pd.DataFrame): A DataFrame containing information about senators, with columns \n",
    "      ['cong', 'name', 'state_abbr', 'state', 'id', 'dist', 'party'].\n",
    "    \"\"\"\n",
    "    # Identify Biden's party and state for reference\n",
    "    biden_info = senators_info[senators_info['name'].str.contains('biden', case=False)]\n",
    "    biden_party = biden_info['party'].iloc[0]\n",
    "    biden_state_abbr = biden_info['state_abbr'].iloc[0]\n",
    "    \n",
    "    print('-'*75)\n",
    "    print(f\"Biden's party: {biden_party}\")\n",
    "    print(f\"Biden's state abbreviation: {biden_state_abbr}\")\n",
    "    print('-'*75)\n",
    "    \n",
    "    # Extract information for the top 5 senators\n",
    "    for senator in top_5_senators:\n",
    "        # Each senator string is formatted as 'last_name-state_abbr'\n",
    "        senator_last_name, senator_state_abbr = senator.split('-')\n",
    "        \n",
    "        # Look up this senator in the senators_info DataFrame\n",
    "        senator_info = senators_info[\n",
    "            (senators_info['name'].str.lower().str.contains(senator_last_name)) & \n",
    "            (senators_info['state_abbr'].str.lower() == senator_state_abbr.lower())\n",
    "        ]\n",
    "        \n",
    "        if not senator_info.empty:\n",
    "            senator_party = senator_info['party'].iloc[0]\n",
    "            print(f\"Senator {senator} is from {senator_state_abbr.upper()} and belongs to party {senator_party}\")\n",
    "            print(f\"Commonality with Biden - State: {'Yes' if senator_state_abbr.lower() == biden_state_abbr.lower() else 'No'}, Party: {'Yes' if senator_party == biden_party else 'No'}\")\n",
    "            print('-'*75)\n",
    "        else:\n",
    "            print(f\"No information found for Senator {senator}\")\n",
    "\n"
   ]
  },
  {
   "cell_type": "code",
   "execution_count": 3,
   "id": "c626e191-65aa-49f0-965d-b997b3b806eb",
   "metadata": {
    "tags": []
   },
   "outputs": [],
   "source": [
    "# path to the directory containing the speeches\n",
    "speeches_dir = 'C:/Users/iandr/masters_coding/Second Semester/Python_Programming_Viz_Text/Course_Materials/Inputs/105-extracted-date'\n",
    "\n",
    "# dictionary to hold senator name and their speech\n",
    "senator_speeches = {}"
   ]
  },
  {
   "cell_type": "markdown",
   "id": "725f98c1-447a-41af-98e0-401a250dc8c6",
   "metadata": {},
   "source": [
    "# i) Use cosine similarity to determine which senator's speech is closest to Senator Biden's. Describe your findings. Make sure to describe your text preprocessing and justify your choices. Validate your findings using **'sen105kh_fix.csv'** and/or Wikipedia to see if the most similar speeches belong to senators from the same state and/or party. "
   ]
  },
  {
   "cell_type": "markdown",
   "id": "e5f0e5f1-3b26-4863-9708-480472acb43e",
   "metadata": {},
   "source": [
    "### Read speeches into the senator_speeches library\n",
    "\n",
    "Here, the senator speeches are read through the read speech function, and fed into the senator_speeches library, using the name of the documents (which includes the senators' name) as the key."
   ]
  },
  {
   "cell_type": "code",
   "execution_count": 4,
   "id": "5dd64537-a94c-44df-b7ec-cd953267e61f",
   "metadata": {
    "tags": []
   },
   "outputs": [
    {
     "data": {
      "text/plain": [
       "['105-abraham-mi',\n",
       " '105-akaka-hi',\n",
       " '105-allard-co',\n",
       " '105-ashcroft-mo',\n",
       " '105-baucus-mt']"
      ]
     },
     "execution_count": 4,
     "metadata": {},
     "output_type": "execute_result"
    }
   ],
   "source": [
    "for file_name in os.listdir(speeches_dir):\n",
    "    if file_name.endswith('.txt'):\n",
    "        # Extract senator name from file name or another way you have structured it\n",
    "        senator_name = file_name.replace('.txt', '')\n",
    "        file_path = os.path.join(speeches_dir, file_name)\n",
    "        senator_speeches[senator_name] = read_speech(file_path)\n",
    "\n",
    "# check the first 5 senator names to make sure it worked\n",
    "labels = list(senator_speeches.keys())\n",
    "labels[:5]"
   ]
  },
  {
   "cell_type": "markdown",
   "id": "632d0819-520c-4eac-9f5c-0a0ba0967e28",
   "metadata": {},
   "source": [
    "### Preprocess the speeches\n",
    "\n",
    "Using the preprocess function, preprocess all speeches in the library"
   ]
  },
  {
   "cell_type": "code",
   "execution_count": 5,
   "id": "d4ec0124-0ba2-47ab-a427-273fc8868c1f",
   "metadata": {
    "tags": []
   },
   "outputs": [],
   "source": [
    "# preprocessing all speeches\n",
    "processed_speeches = {senator: preprocess_text(speech) for senator, speech in senator_speeches.items()}\n"
   ]
  },
  {
   "cell_type": "markdown",
   "id": "84bcc31c-77c2-4c37-bb93-831dccfb2a83",
   "metadata": {},
   "source": [
    "### Convert to TFIDF vectors and set biden's speech\n",
    "\n",
    "Convert the processed speeches to a tfidf matrix using the tfidf vectorizer, initialized along with the import libraries portion of the code. \n",
    "\n",
    "Additionally, this chunk of code sets biden's speeches as biden_index so that there is a speech to compare the others to in the cosine similarity. "
   ]
  },
  {
   "cell_type": "code",
   "execution_count": 6,
   "id": "d9b9c83e-4289-408e-a6b4-a6b881f3d3cd",
   "metadata": {
    "tags": []
   },
   "outputs": [],
   "source": [
    "# convert to TF-IDF vectors\n",
    "tfidf_matrix_norm = tfidf_vectorizer.fit_transform(processed_speeches.values())\n",
    "\n",
    "# setting biden's speach to `biden_index` for consine similarity comparison\n",
    "biden_index = list(processed_speeches.keys()).index('105-biden-de') \n"
   ]
  },
  {
   "cell_type": "markdown",
   "id": "8fd7a861-0baa-4dc7-baff-b9d0511a072e",
   "metadata": {},
   "source": [
    "### Applying the Cosine Similarity Function and printing the top 5 senators and their similarity scores to biden's speeches. \n",
    "\n",
    "Here, the `cosine_similarity_calc` function is applied, using the tfidf_matrix, biden_index, and the labels (which was initalized earlier as the the list of the document names). "
   ]
  },
  {
   "cell_type": "code",
   "execution_count": 7,
   "id": "374e21ec-c1b4-4c40-bb61-c12a83ff49eb",
   "metadata": {
    "tags": []
   },
   "outputs": [],
   "source": [
    "# Initialize the comparison table\n",
    "columns = ['Senator', 'Score', 'Type']\n",
    "results_df = pd.DataFrame(columns=columns)"
   ]
  },
  {
   "cell_type": "code",
   "execution_count": 8,
   "id": "dfd37675-0273-4e19-9b67-7eff5691342f",
   "metadata": {
    "tags": []
   },
   "outputs": [
    {
     "name": "stderr",
     "output_type": "stream",
     "text": [
      "C:\\Users\\iandr\\AppData\\Local\\Temp\\ipykernel_32348\\3271048027.py:6: FutureWarning: The behavior of DataFrame concatenation with empty or all-NA entries is deprecated. In a future version, this will no longer exclude empty or all-NA columns when determining the result dtypes. To retain the old behavior, exclude the relevant entries before the concat operation.\n",
      "  results_df = pd.concat([results_df, temp_df], ignore_index=True)\n"
     ]
    },
    {
     "data": {
      "text/html": [
       "<div>\n",
       "<style scoped>\n",
       "    .dataframe tbody tr th:only-of-type {\n",
       "        vertical-align: middle;\n",
       "    }\n",
       "\n",
       "    .dataframe tbody tr th {\n",
       "        vertical-align: top;\n",
       "    }\n",
       "\n",
       "    .dataframe thead th {\n",
       "        text-align: right;\n",
       "    }\n",
       "</style>\n",
       "<table border=\"1\" class=\"dataframe\">\n",
       "  <thead>\n",
       "    <tr style=\"text-align: right;\">\n",
       "      <th></th>\n",
       "      <th>Senator</th>\n",
       "      <th>Score</th>\n",
       "      <th>Type</th>\n",
       "    </tr>\n",
       "  </thead>\n",
       "  <tbody>\n",
       "    <tr>\n",
       "      <th>0</th>\n",
       "      <td>105-kerry-ma</td>\n",
       "      <td>0.792525</td>\n",
       "      <td>Normal</td>\n",
       "    </tr>\n",
       "    <tr>\n",
       "      <th>1</th>\n",
       "      <td>105-kyl-az</td>\n",
       "      <td>0.784532</td>\n",
       "      <td>Normal</td>\n",
       "    </tr>\n",
       "    <tr>\n",
       "      <th>2</th>\n",
       "      <td>105-hutchison-tx</td>\n",
       "      <td>0.782242</td>\n",
       "      <td>Normal</td>\n",
       "    </tr>\n",
       "    <tr>\n",
       "      <th>3</th>\n",
       "      <td>105-lieberman-ct</td>\n",
       "      <td>0.781326</td>\n",
       "      <td>Normal</td>\n",
       "    </tr>\n",
       "    <tr>\n",
       "      <th>4</th>\n",
       "      <td>105-roberts-ks</td>\n",
       "      <td>0.776708</td>\n",
       "      <td>Normal</td>\n",
       "    </tr>\n",
       "  </tbody>\n",
       "</table>\n",
       "</div>"
      ],
      "text/plain": [
       "            Senator     Score    Type\n",
       "0      105-kerry-ma  0.792525  Normal\n",
       "1        105-kyl-az  0.784532  Normal\n",
       "2  105-hutchison-tx  0.782242  Normal\n",
       "3  105-lieberman-ct  0.781326  Normal\n",
       "4    105-roberts-ks  0.776708  Normal"
      ]
     },
     "execution_count": 8,
     "metadata": {},
     "output_type": "execute_result"
    }
   ],
   "source": [
    "top_similarities = cosine_similarity_calc(tfidf_matrix_norm, biden_index, labels)\n",
    "\n",
    "for senator, score in top_similarities[:5]:\n",
    "    # Create a temporary DataFrame for the current row and concatenate it with the results_df since append was not working\n",
    "    temp_df = pd.DataFrame({'Senator': [senator], 'Score': [score], 'Type': ['Normal']})\n",
    "    results_df = pd.concat([results_df, temp_df], ignore_index=True)\n",
    "    \n",
    "results_df\n"
   ]
  },
  {
   "cell_type": "code",
   "execution_count": 9,
   "id": "482887fb-694d-4b50-abb6-2a9c32c8da89",
   "metadata": {
    "tags": []
   },
   "outputs": [
    {
     "name": "stdout",
     "output_type": "stream",
     "text": [
      "['kerry-ma', 'kyl-az', 'hutchison-tx', 'lieberman-ct', 'roberts-ks']\n"
     ]
    }
   ],
   "source": [
    "# extracting senator names and state abbreviations using regex\n",
    "top_5_senators_norm = [re.search(r'\\d+-(\\w+-\\w+)', senator).group(1) for senator, _ in top_similarities[:5]]\n",
    "\n",
    "print(top_5_senators_norm)"
   ]
  },
  {
   "cell_type": "markdown",
   "id": "6772d8dc-bb74-4f12-ab21-2b8677fd75c3",
   "metadata": {},
   "source": [
    "### Reading in the senator information CSV\n",
    "\n",
    "Here, the senator information CSV is read in, being separated by ';'. This is for comparing senator information to biden's to see if there are any visable similarites or consistentcies in the party or state of the top five most similar speeches to Biden's. "
   ]
  },
  {
   "cell_type": "code",
   "execution_count": 10,
   "id": "ed13e585-cb72-45fc-b979-df95018c008f",
   "metadata": {
    "tags": []
   },
   "outputs": [
    {
     "name": "stdout",
     "output_type": "stream",
     "text": [
      "   cong       name state_abbr    state     id  dist  party\n",
      "0   105   sessions         al  ALABAMA  49700     0    200\n",
      "1   105     shelby         al  ALABAMA  94659     0    200\n",
      "2   105  murkowski         ak  ALASKA   14907     0    200\n",
      "3   105    stevens         ak  ALASKA   12109     0    200\n",
      "4   105        kyl         az  ARIZONA  15429     0    200\n"
     ]
    }
   ],
   "source": [
    "# path to the CSV file\n",
    "csv_path = \"C:/Users/iandr/masters_coding/Second Semester/Python_Programming_Viz_Text/Course_Materials/Inputs/sen105kh_fix.csv\"\n",
    "\n",
    "# loading the CSV for validation, using ';' as the separator \n",
    "senators_info = pd.read_csv(csv_path, sep=';')\n",
    "\n",
    "# establishing the csv column names, and the top five senators' name\n",
    "senators_info.columns = ['cong', 'name', 'state_abbr', 'state', 'id', 'dist', 'party']\n",
    "\n",
    "# check the dataframe\n",
    "print(senators_info.head())\n"
   ]
  },
  {
   "cell_type": "code",
   "execution_count": 11,
   "id": "bc7fe803-a907-4cfd-b5c9-9511533c79f9",
   "metadata": {
    "tags": []
   },
   "outputs": [
    {
     "name": "stdout",
     "output_type": "stream",
     "text": [
      "---------------------------------------------------------------------------\n",
      "Biden's party: 100\n",
      "Biden's state abbreviation: de\n",
      "---------------------------------------------------------------------------\n",
      "Senator kerry-ma is from MA and belongs to party 100\n",
      "Commonality with Biden - State: No, Party: Yes\n",
      "---------------------------------------------------------------------------\n",
      "Senator kyl-az is from AZ and belongs to party 200\n",
      "Commonality with Biden - State: No, Party: No\n",
      "---------------------------------------------------------------------------\n",
      "Senator hutchison-tx is from TX and belongs to party 200\n",
      "Commonality with Biden - State: No, Party: No\n",
      "---------------------------------------------------------------------------\n",
      "Senator lieberman-ct is from CT and belongs to party 100\n",
      "Commonality with Biden - State: No, Party: Yes\n",
      "---------------------------------------------------------------------------\n",
      "Senator roberts-ks is from KS and belongs to party 200\n",
      "Commonality with Biden - State: No, Party: No\n",
      "---------------------------------------------------------------------------\n"
     ]
    }
   ],
   "source": [
    "print_senator_details(top_5_senators_norm, senators_info)"
   ]
  },
  {
   "cell_type": "markdown",
   "id": "ea96df42-3c8d-44be-b28e-adfd66f62e6c",
   "metadata": {},
   "source": [
    "#### Party and State similarities\n",
    "\n",
    "The top five senators do not seem to have very many consistencies with Biden's speeches. Since there are only two parties, it could be considered a coincidence that there are similar parties to Biden's in the top five senators listed here. Only two senators have the same party, and no senator has the same state as Biden. "
   ]
  },
  {
   "cell_type": "markdown",
   "id": "0bb268cb-c624-4b57-a387-562988f1bb0f",
   "metadata": {
    "tags": []
   },
   "source": [
    "# ii) How do your results change if you apply stemming or lemmatization? In your opinion, which is better to apply: stemming or lemmatization? Why?\n"
   ]
  },
  {
   "cell_type": "code",
   "execution_count": 12,
   "id": "b95efaac-7933-4af3-a992-f2e2c55c5869",
   "metadata": {
    "tags": []
   },
   "outputs": [
    {
     "name": "stdout",
     "output_type": "stream",
     "text": [
      "Stemming completed. Time taken: 121.76s\n"
     ]
    }
   ],
   "source": [
    "# Applying stemming\n",
    "start_time = time.time()\n",
    "stemmed_speeches = {senator: stem_text(speech) for senator, speech in processed_speeches.items()}\n",
    "print(f\"Stemming completed. Time taken: {time.time() - start_time:.2f}s\")\n"
   ]
  },
  {
   "cell_type": "code",
   "execution_count": 13,
   "id": "63bbd5d3-fa7f-4006-9410-1ec93a037011",
   "metadata": {
    "tags": []
   },
   "outputs": [
    {
     "name": "stdout",
     "output_type": "stream",
     "text": [
      "Lemmatization completed. Time taken: 26.75s\n"
     ]
    }
   ],
   "source": [
    "# Applying lemmatizing\n",
    "start_time = time.time()\n",
    "lemmatized_speeches = {senator: lemmatize_text(speech) for senator, speech in processed_speeches.items()}\n",
    "print(f\"Lemmatization completed. Time taken: {time.time() - start_time:.2f}s\")\n"
   ]
  },
  {
   "cell_type": "code",
   "execution_count": 14,
   "id": "259e2ca1-d086-4906-9e1c-320270a78be9",
   "metadata": {
    "tags": []
   },
   "outputs": [
    {
     "name": "stdout",
     "output_type": "stream",
     "text": [
      "TF-IDF vectorization completed. Time taken: 8.30s\n"
     ]
    }
   ],
   "source": [
    "# Vectorize the speeches\n",
    "start_time = time.time()\n",
    "tfidf_matrix_stem = tfidf_vectorizer_stem.fit_transform(list(stemmed_speeches.values()))\n",
    "tfidf_matrix_lemmatize = tfidf_vectorizer_lem.fit_transform(list(lemmatized_speeches.values()))\n",
    "print(f\"TF-IDF vectorization completed. Time taken: {time.time() - start_time:.2f}s\")\n"
   ]
  },
  {
   "cell_type": "code",
   "execution_count": 15,
   "id": "a9e9e09d-27dc-4be3-a3ec-77a7dc051419",
   "metadata": {
    "tags": []
   },
   "outputs": [],
   "source": [
    "# Cosine Similarity on Stemmed Speeches\n",
    "top_similarities_stem = cosine_similarity_calc(tfidf_matrix_stem, biden_index, labels)\n",
    "top_5_senators_stem = [re.search(r'\\d+-(\\w+-\\w+)', senator).group(1) for senator, _ in top_similarities_stem[:5]]\n",
    "\n",
    "# Cosine Similarity on Lemmatized Speeches\n",
    "top_similarities_lemmatize = cosine_similarity_calc(tfidf_matrix_lemmatize, biden_index, labels)\n",
    "top_5_senators_lemmatize = [re.search(r'\\d+-(\\w+-\\w+)', senator).group(1) for senator, _ in top_similarities_lemmatize[:5]]\n"
   ]
  },
  {
   "cell_type": "code",
   "execution_count": 16,
   "id": "9c7390d1-efe2-449d-a40d-b42ad0b5da0c",
   "metadata": {
    "tags": []
   },
   "outputs": [
    {
     "name": "stdout",
     "output_type": "stream",
     "text": [
      "Similarity Scores using Stemming:\n",
      "            Senator     Score      Type\n",
      "0      105-kerry-ma  0.792525    Normal\n",
      "1        105-kyl-az  0.784532    Normal\n",
      "2  105-hutchison-tx  0.782242    Normal\n",
      "3  105-lieberman-ct  0.781326    Normal\n",
      "4    105-roberts-ks  0.776708    Normal\n",
      "5      105-kerry-ma  0.842858  Stemming\n",
      "6        105-kyl-az  0.834385  Stemming\n",
      "7  105-lieberman-ct  0.831528  Stemming\n",
      "8    105-roberts-ks  0.828646  Stemming\n",
      "9       105-byrd-wv  0.825766  Stemming\n",
      "---------------------------------------------------------------------------\n",
      "---------------------------------------------------------------------------\n",
      "Biden's party: 100\n",
      "Biden's state abbreviation: de\n",
      "---------------------------------------------------------------------------\n",
      "Senator kerry-ma is from MA and belongs to party 100\n",
      "Commonality with Biden - State: No, Party: Yes\n",
      "---------------------------------------------------------------------------\n",
      "Senator kyl-az is from AZ and belongs to party 200\n",
      "Commonality with Biden - State: No, Party: No\n",
      "---------------------------------------------------------------------------\n",
      "Senator lieberman-ct is from CT and belongs to party 100\n",
      "Commonality with Biden - State: No, Party: Yes\n",
      "---------------------------------------------------------------------------\n",
      "Senator roberts-ks is from KS and belongs to party 200\n",
      "Commonality with Biden - State: No, Party: No\n",
      "---------------------------------------------------------------------------\n",
      "Senator byrd-wv is from WV and belongs to party 100\n",
      "Commonality with Biden - State: No, Party: Yes\n",
      "---------------------------------------------------------------------------\n"
     ]
    }
   ],
   "source": [
    "print(\"Similarity Scores using Stemming:\")\n",
    "for senator, score in top_similarities_stem[:5]:\n",
    "    # Create a temporary DataFrame for the current row and concatenate it with the results_df since append was not working\n",
    "    temp_df = pd.DataFrame({'Senator': [senator], 'Score': [score], 'Type': ['Stemming']})\n",
    "    results_df = pd.concat([results_df, temp_df], ignore_index=True)\n",
    "    \n",
    "print(results_df)\n",
    "\n",
    "print('-'*75)\n",
    "print_senator_details(top_5_senators_stem, senators_info)"
   ]
  },
  {
   "cell_type": "code",
   "execution_count": 17,
   "id": "4d7a5a2f-d6cc-4b67-afaf-ab7447eace3d",
   "metadata": {
    "tags": []
   },
   "outputs": [
    {
     "name": "stdout",
     "output_type": "stream",
     "text": [
      "Similarity Scores using Lemmatizing:\n",
      "             Senator     Score         Type\n",
      "0       105-kerry-ma  0.792525       Normal\n",
      "1         105-kyl-az  0.784532       Normal\n",
      "2   105-hutchison-tx  0.782242       Normal\n",
      "3   105-lieberman-ct  0.781326       Normal\n",
      "4     105-roberts-ks  0.776708       Normal\n",
      "5       105-kerry-ma  0.842858     Stemming\n",
      "6         105-kyl-az  0.834385     Stemming\n",
      "7   105-lieberman-ct  0.831528     Stemming\n",
      "8     105-roberts-ks  0.828646     Stemming\n",
      "9        105-byrd-wv  0.825766     Stemming\n",
      "10      105-kerry-ma  0.807746  Lemmatizing\n",
      "11        105-kyl-az  0.801307  Lemmatizing\n",
      "12  105-lieberman-ct  0.799500  Lemmatizing\n",
      "13  105-hutchison-tx  0.799329  Lemmatizing\n",
      "14    105-roberts-ks  0.793694  Lemmatizing\n",
      "---------------------------------------------------------------------------\n",
      "---------------------------------------------------------------------------\n",
      "Biden's party: 100\n",
      "Biden's state abbreviation: de\n",
      "---------------------------------------------------------------------------\n",
      "Senator kerry-ma is from MA and belongs to party 100\n",
      "Commonality with Biden - State: No, Party: Yes\n",
      "---------------------------------------------------------------------------\n",
      "Senator kyl-az is from AZ and belongs to party 200\n",
      "Commonality with Biden - State: No, Party: No\n",
      "---------------------------------------------------------------------------\n",
      "Senator lieberman-ct is from CT and belongs to party 100\n",
      "Commonality with Biden - State: No, Party: Yes\n",
      "---------------------------------------------------------------------------\n",
      "Senator hutchison-tx is from TX and belongs to party 200\n",
      "Commonality with Biden - State: No, Party: No\n",
      "---------------------------------------------------------------------------\n",
      "Senator roberts-ks is from KS and belongs to party 200\n",
      "Commonality with Biden - State: No, Party: No\n",
      "---------------------------------------------------------------------------\n"
     ]
    }
   ],
   "source": [
    "print(\"Similarity Scores using Lemmatizing:\")\n",
    "for senator, score in top_similarities_lemmatize[:5]:\n",
    "    temp_df = pd.DataFrame({'Senator': [senator], 'Score': [score], 'Type': ['Lemmatizing']})\n",
    "    results_df = pd.concat([results_df, temp_df], ignore_index=True)\n",
    "    \n",
    "print(results_df)\n",
    "\n",
    "print('-'*75)\n",
    "print_senator_details(top_5_senators_lemmatize, senators_info)"
   ]
  },
  {
   "cell_type": "code",
   "execution_count": 18,
   "id": "a8ea9c9a-e9b3-49aa-a642-1952f7b6e594",
   "metadata": {
    "tags": []
   },
   "outputs": [
    {
     "data": {
      "text/html": [
       "<div>\n",
       "<style scoped>\n",
       "    .dataframe tbody tr th:only-of-type {\n",
       "        vertical-align: middle;\n",
       "    }\n",
       "\n",
       "    .dataframe tbody tr th {\n",
       "        vertical-align: top;\n",
       "    }\n",
       "\n",
       "    .dataframe thead th {\n",
       "        text-align: right;\n",
       "    }\n",
       "</style>\n",
       "<table border=\"1\" class=\"dataframe\">\n",
       "  <thead>\n",
       "    <tr style=\"text-align: right;\">\n",
       "      <th></th>\n",
       "      <th>Senator</th>\n",
       "      <th>Score</th>\n",
       "      <th>Type</th>\n",
       "    </tr>\n",
       "  </thead>\n",
       "  <tbody>\n",
       "    <tr>\n",
       "      <th>0</th>\n",
       "      <td>105-kerry-ma</td>\n",
       "      <td>0.792525</td>\n",
       "      <td>Normal</td>\n",
       "    </tr>\n",
       "    <tr>\n",
       "      <th>1</th>\n",
       "      <td>105-kyl-az</td>\n",
       "      <td>0.784532</td>\n",
       "      <td>Normal</td>\n",
       "    </tr>\n",
       "    <tr>\n",
       "      <th>2</th>\n",
       "      <td>105-hutchison-tx</td>\n",
       "      <td>0.782242</td>\n",
       "      <td>Normal</td>\n",
       "    </tr>\n",
       "    <tr>\n",
       "      <th>3</th>\n",
       "      <td>105-lieberman-ct</td>\n",
       "      <td>0.781326</td>\n",
       "      <td>Normal</td>\n",
       "    </tr>\n",
       "    <tr>\n",
       "      <th>4</th>\n",
       "      <td>105-roberts-ks</td>\n",
       "      <td>0.776708</td>\n",
       "      <td>Normal</td>\n",
       "    </tr>\n",
       "    <tr>\n",
       "      <th>5</th>\n",
       "      <td>105-kerry-ma</td>\n",
       "      <td>0.842858</td>\n",
       "      <td>Stemming</td>\n",
       "    </tr>\n",
       "    <tr>\n",
       "      <th>6</th>\n",
       "      <td>105-kyl-az</td>\n",
       "      <td>0.834385</td>\n",
       "      <td>Stemming</td>\n",
       "    </tr>\n",
       "    <tr>\n",
       "      <th>7</th>\n",
       "      <td>105-lieberman-ct</td>\n",
       "      <td>0.831528</td>\n",
       "      <td>Stemming</td>\n",
       "    </tr>\n",
       "    <tr>\n",
       "      <th>8</th>\n",
       "      <td>105-roberts-ks</td>\n",
       "      <td>0.828646</td>\n",
       "      <td>Stemming</td>\n",
       "    </tr>\n",
       "    <tr>\n",
       "      <th>9</th>\n",
       "      <td>105-byrd-wv</td>\n",
       "      <td>0.825766</td>\n",
       "      <td>Stemming</td>\n",
       "    </tr>\n",
       "    <tr>\n",
       "      <th>10</th>\n",
       "      <td>105-kerry-ma</td>\n",
       "      <td>0.807746</td>\n",
       "      <td>Lemmatizing</td>\n",
       "    </tr>\n",
       "    <tr>\n",
       "      <th>11</th>\n",
       "      <td>105-kyl-az</td>\n",
       "      <td>0.801307</td>\n",
       "      <td>Lemmatizing</td>\n",
       "    </tr>\n",
       "    <tr>\n",
       "      <th>12</th>\n",
       "      <td>105-lieberman-ct</td>\n",
       "      <td>0.799500</td>\n",
       "      <td>Lemmatizing</td>\n",
       "    </tr>\n",
       "    <tr>\n",
       "      <th>13</th>\n",
       "      <td>105-hutchison-tx</td>\n",
       "      <td>0.799329</td>\n",
       "      <td>Lemmatizing</td>\n",
       "    </tr>\n",
       "    <tr>\n",
       "      <th>14</th>\n",
       "      <td>105-roberts-ks</td>\n",
       "      <td>0.793694</td>\n",
       "      <td>Lemmatizing</td>\n",
       "    </tr>\n",
       "  </tbody>\n",
       "</table>\n",
       "</div>"
      ],
      "text/plain": [
       "             Senator     Score         Type\n",
       "0       105-kerry-ma  0.792525       Normal\n",
       "1         105-kyl-az  0.784532       Normal\n",
       "2   105-hutchison-tx  0.782242       Normal\n",
       "3   105-lieberman-ct  0.781326       Normal\n",
       "4     105-roberts-ks  0.776708       Normal\n",
       "5       105-kerry-ma  0.842858     Stemming\n",
       "6         105-kyl-az  0.834385     Stemming\n",
       "7   105-lieberman-ct  0.831528     Stemming\n",
       "8     105-roberts-ks  0.828646     Stemming\n",
       "9        105-byrd-wv  0.825766     Stemming\n",
       "10      105-kerry-ma  0.807746  Lemmatizing\n",
       "11        105-kyl-az  0.801307  Lemmatizing\n",
       "12  105-lieberman-ct  0.799500  Lemmatizing\n",
       "13  105-hutchison-tx  0.799329  Lemmatizing\n",
       "14    105-roberts-ks  0.793694  Lemmatizing"
      ]
     },
     "execution_count": 18,
     "metadata": {},
     "output_type": "execute_result"
    }
   ],
   "source": [
    "results_df"
   ]
  },
  {
   "cell_type": "markdown",
   "id": "ac5c88f8-f393-454a-9978-d0692d201e53",
   "metadata": {},
   "source": [
    "# iii) Create at least two visualizations to support your analysis."
   ]
  },
  {
   "cell_type": "code",
   "execution_count": 19,
   "id": "c3cd419d-ef99-4b16-bd94-f0167512fbfe",
   "metadata": {
    "tags": []
   },
   "outputs": [
    {
     "data": {
      "image/png": "[encoded data removed]",
      "text/plain": [
       "<Figure size 800x600 with 1 Axes>"
      ]
     },
     "metadata": {},
     "output_type": "display_data"
    }
   ],
   "source": [
    "# calculating mean scores for each Type and sort them\n",
    "mean_scores = results_df.groupby('Type')['Score'].mean().sort_values()\n",
    "\n",
    "# Plotting\n",
    "plt.figure(figsize=(8, 6))\n",
    "mean_scores.plot(kind='bar', color = '#3b9e9e')\n",
    "plt.title('Mean Similarity Scores by Text Processing Type')\n",
    "plt.xlabel('')\n",
    "plt.ylabel('')\n",
    "plt.xticks(rotation=45)\n",
    "\n",
    "# Narrow the y-axis to better visualize differences\n",
    "plt.ylim(mean_scores.min() - 0.01, mean_scores.max() + 0.01)  # Adjust as needed\n",
    "\n",
    "plt.tight_layout()\n",
    "plt.show()\n"
   ]
  },
  {
   "cell_type": "markdown",
   "id": "45f0a107-a3b0-413d-a2a5-97da7f818dc3",
   "metadata": {},
   "source": [
    "The bar chart above displays a comparative analysis of the mean similarity scores between the different text processing type: normal processing, stemming, and lemmatizing. From this analysis, the stemming method seems to yield the highest mean similarity score, which is then followed by lemmatizing, and then the normal method without stemming and lemmatizing. This would suggest that both stemming and lemmatizing would enhance the similarity between texts. \n",
    "\n",
    "Stemming reduces words to their root forms through the truncation of derivational affixes, which could contribute to a stronger matching process by simplifying the text. This could lead to an increased incidence of word overlap between documents, which would increase the similarity scores as well. Lemmatizationg also converts words to their base form through a more sophisticated methodology. Here, it shows a slightly lesser impact on similarites scores compared to stemming. Overall, these findings suggest the importance of text preprocessing, as well as choosing the optimal and appropriate preprocessing techniques. "
   ]
  },
  {
   "cell_type": "code",
   "execution_count": 20,
   "id": "ca062bd4-903e-4ebb-ae06-a8648825b467",
   "metadata": {
    "tags": []
   },
   "outputs": [],
   "source": [
    "# Add 'State' and 'Party' columns to results_df\n",
    "results_df['State'] = results_df['Senator'].apply(lambda name: senators_info[senators_info['name'].str.contains(name.split('-')[1], case=False)]['state_abbr'].iloc[0])\n",
    "results_df['Party'] = results_df['Senator'].apply(lambda name: senators_info[senators_info['name'].str.contains(name.split('-')[1], case=False)]['party'].iloc[0])\n",
    "\n",
    "# establishing biden's information, party, and state for comparison\n",
    "biden_info = senators_info[senators_info['name'].str.contains('biden')].iloc[0]\n",
    "biden_party = biden_info['party']\n",
    "biden_state = biden_info['state_abbr']\n",
    "\n",
    "def assign_colors(row, biden_party, biden_state):\n",
    "    if row['Party'] == biden_party and row['State'] == biden_state:\n",
    "        return 'green'  # same party and state as Biden\n",
    "    elif row['Party'] == biden_party:\n",
    "        return 'blue'   # same party as Biden\n",
    "    elif row['State'] == biden_state:\n",
    "        return 'cyan'   # same state as Biden\n",
    "    else:\n",
    "        return 'red'\n",
    "    "
   ]
  },
  {
   "cell_type": "code",
   "execution_count": 21,
   "id": "587e4ccd-3d56-4273-83c6-86a6e09d67a5",
   "metadata": {
    "tags": []
   },
   "outputs": [
    {
     "name": "stderr",
     "output_type": "stream",
     "text": [
      "C:\\Users\\iandr\\AppData\\Local\\Temp\\ipykernel_32348\\593971421.py:4: SettingWithCopyWarning: \n",
      "A value is trying to be set on a copy of a slice from a DataFrame.\n",
      "Try using .loc[row_indexer,col_indexer] = value instead\n",
      "\n",
      "See the caveats in the documentation: https://pandas.pydata.org/pandas-docs/stable/user_guide/indexing.html#returning-a-view-versus-a-copy\n",
      "  filtered_df['Color'] = filtered_df.apply(lambda row: assign_colors(row, biden_party, biden_state), axis=1)\n"
     ]
    },
    {
     "data": {
      "image/png": "[encoded data removed]",
      "text/plain": [
       "<Figure size 1000x600 with 1 Axes>"
      ]
     },
     "metadata": {},
     "output_type": "display_data"
    },
    {
     "name": "stderr",
     "output_type": "stream",
     "text": [
      "C:\\Users\\iandr\\AppData\\Local\\Temp\\ipykernel_32348\\593971421.py:4: SettingWithCopyWarning: \n",
      "A value is trying to be set on a copy of a slice from a DataFrame.\n",
      "Try using .loc[row_indexer,col_indexer] = value instead\n",
      "\n",
      "See the caveats in the documentation: https://pandas.pydata.org/pandas-docs/stable/user_guide/indexing.html#returning-a-view-versus-a-copy\n",
      "  filtered_df['Color'] = filtered_df.apply(lambda row: assign_colors(row, biden_party, biden_state), axis=1)\n"
     ]
    },
    {
     "data": {
      "image/png": "[encoded data removed]",
      "text/plain": [
       "<Figure size 1000x600 with 1 Axes>"
      ]
     },
     "metadata": {},
     "output_type": "display_data"
    }
   ],
   "source": [
    "def visualize_comparison(df, biden_party, biden_state, type_filter):\n",
    "    plt.figure(figsize=(10, 6))\n",
    "    filtered_df = df[df['Type'] == type_filter]\n",
    "    filtered_df['Color'] = filtered_df.apply(lambda row: assign_colors(row, biden_party, biden_state), axis=1)\n",
    "    \n",
    "    plt.bar(filtered_df['Senator'], filtered_df['Score'], color=filtered_df['Color'])\n",
    "    plt.xlabel('')\n",
    "    plt.ylabel('')\n",
    "    plt.title(f\"Party and State Comparison to Biden's Speech ({type_filter})\")\n",
    "    plt.ylim([filtered_df['Score'].min() - 0.01, filtered_df['Score'].max() + 0.01])\n",
    "\n",
    "    legend_elements = [Patch(facecolor='green', label='Same Party and State as Biden'),\n",
    "                       Patch(facecolor='blue', label='Same Party as Biden'),\n",
    "                       Patch(facecolor='cyan', label='Same State as Biden'),\n",
    "                       Patch(facecolor='red', label='Different Party and State')]\n",
    "    plt.legend(handles=legend_elements, title='Legend')\n",
    "    \n",
    "    plt.xticks(rotation=45)\n",
    "    plt.tight_layout()\n",
    "    plt.show()\n",
    "\n",
    "# Example usage\n",
    "visualize_comparison(results_df, biden_party, biden_state, 'Lemmatizing')\n",
    "visualize_comparison(results_df, biden_party, biden_state, 'Stemming')\n"
   ]
  },
  {
   "cell_type": "markdown",
   "id": "d7bf6602-cc65-42cf-abf2-6699d260c0d0",
   "metadata": {},
   "source": [
    "# iv) Use 'sen105kh_fix.csv' as the target variable for your predictions. Can you predict the party of the senator from their speech? Should you use the same text preprocessing as above? Justify your choices."
   ]
  },
  {
   "cell_type": "code",
   "execution_count": 22,
   "id": "e9fa6b8d-73af-48af-b1e6-af7d54af4564",
   "metadata": {
    "tags": []
   },
   "outputs": [],
   "source": [
    "import re\n",
    "from sklearn.feature_extraction.text import TfidfVectorizer\n",
    "from sklearn.model_selection import train_test_split\n",
    "from sklearn.linear_model import LogisticRegression\n",
    "from sklearn.metrics import accuracy_score, classification_report\n",
    "from sklearn.utils.class_weight import compute_class_weight\n",
    "import numpy as np"
   ]
  },
  {
   "cell_type": "code",
   "execution_count": 25,
   "id": "d34146ea-ab22-4b6a-a845-f541222178fb",
   "metadata": {
    "tags": []
   },
   "outputs": [],
   "source": [
    "y = senators_info['party'].values"
   ]
  },
  {
   "cell_type": "code",
   "execution_count": 34,
   "id": "b44e46fe-cf66-4b77-a874-7f7501332de3",
   "metadata": {
    "tags": []
   },
   "outputs": [],
   "source": [
    "def predict_party(tfidf_matrix, y):\n",
    "    # Convert party labels to numpy array\n",
    "    y = np.array(y)\n",
    "    \n",
    "    # Compute class weights to handle imbalance\n",
    "    classes = np.unique(y)\n",
    "    class_weights = compute_class_weight(class_weight='balanced', classes=classes, y=y)\n",
    "    class_weights_dict = dict(zip(classes, class_weights))\n",
    "    \n",
    "    # Initialize the logistic regression model with balanced class weights\n",
    "    model = LogisticRegression(class_weight=class_weights_dict, random_state=42)\n",
    "    \n",
    "    # Split data into training and testing sets\n",
    "    X_train, X_test, y_train, y_test = train_test_split(tfidf_matrix, y, test_size=0.2, random_state=42)\n",
    "    \n",
    "    # Train the model\n",
    "    model.fit(X_train, y_train)\n",
    "    \n",
    "    # Predict and evaluate\n",
    "    y_pred = model.predict(X_test)\n",
    "    accuracy = accuracy_score(y_test, y_pred)\n",
    "    report = classification_report(y_test, y_pred)\n",
    "    \n",
    "    # Print results\n",
    "    print(report)\n",
    "    \n",
    "    return accuracy\n",
    "\n"
   ]
  },
  {
   "cell_type": "code",
   "execution_count": 36,
   "id": "807b7b7e-00ad-4fee-ac2f-ce058c70750e",
   "metadata": {
    "tags": []
   },
   "outputs": [
    {
     "name": "stdout",
     "output_type": "stream",
     "text": [
      "              precision    recall  f1-score   support\n",
      "\n",
      "         100       0.45      0.56      0.50         9\n",
      "         200       0.56      0.45      0.50        11\n",
      "\n",
      "    accuracy                           0.50        20\n",
      "   macro avg       0.51      0.51      0.50        20\n",
      "weighted avg       0.51      0.50      0.50        20\n",
      "\n",
      "0.5\n",
      "              precision    recall  f1-score   support\n",
      "\n",
      "         100       0.55      0.67      0.60         9\n",
      "         200       0.67      0.55      0.60        11\n",
      "\n",
      "    accuracy                           0.60        20\n",
      "   macro avg       0.61      0.61      0.60        20\n",
      "weighted avg       0.61      0.60      0.60        20\n",
      "\n",
      "0.6\n",
      "              precision    recall  f1-score   support\n",
      "\n",
      "         100       0.50      0.67      0.57         9\n",
      "         200       0.62      0.45      0.53        11\n",
      "\n",
      "    accuracy                           0.55        20\n",
      "   macro avg       0.56      0.56      0.55        20\n",
      "weighted avg       0.57      0.55      0.55        20\n",
      "\n",
      "0.55\n"
     ]
    }
   ],
   "source": [
    "# To use the function, call it with each of your precomputed TF-IDF matrices and the label vector 'y'\n",
    "print(predict_party(tfidf_matrix_norm, y))\n",
    "print(predict_party(tfidf_matrix_lemmatize, y))\n",
    "print(predict_party(tfidf_matrix_stem, y))"
   ]
  },
  {
   "cell_type": "markdown",
   "id": "2535c5bb-e0c5-460e-aa8e-4154504d05a1",
   "metadata": {},
   "source": [
    "Precision: This is the ratio of correctly predicted positive observations to the total predicted positive observations. For example, for class 100, the precision in the first classifier is 0.45, meaning that when it predicts class 100, it is correct 45% of the time.\n",
    "\n",
    "Recall (Sensitivity): This is the ratio of correctly predicted positive observations to the all observations in actual class. For class 100, the recall is 0.56 in the first classifier, meaning that it correctly identifies 56% of all actual instances of class 100.\n",
    "\n",
    "F1-Score: This is the weighted average of Precision and Recall. Therefore, this score takes both false positives and false negatives into account. It is a good way to show that a class has a good balance between Precision and Recall. An F1-Score of 0.50 for class 100 in the first classifier indicates that it has an equal balance of Precision and Recall for that class.\n",
    "\n",
    "Support: This is the number of actual occurrences of the class in the specified dataset. For instance, class 100 has 9 occurrences in the first classifier.\n",
    "\n",
    "Accuracy: This is the ratio of correctly predicted observation to the total observations and is given for each classifier. The first one has an accuracy of 0.50 (or 50%), which means that the classifier correctly predicts the party 50% of the time across both classes.\n",
    "\n",
    "Macro Avg: This is the average Precision, Recall, and F1-Score between classes, which treats all classes equally. It doesn’t take label imbalance into account.\n",
    "\n",
    "Weighted Avg: This is the average Precision, Recall, and F1-Score between classes weighted by the support for each class. This metric does take label imbalance into account.\n",
    "\n",
    "Based on the provided results:\n",
    "\n",
    "The first classifier (top block) has an accuracy of 0.50. The F1-Score for both classes is also 0.50, indicating a balance between Precision and Recall but not necessarily a good performance.\n",
    "\n",
    "The second classifier (middle block) performs slightly better with an accuracy of 0.60 and higher F1-Scores of 0.60 and 0.68 for classes 100 and 200, respectively.\n",
    "\n",
    "The third classifier (bottom block) has an accuracy of 0.55, with an F1-Score of 0.57 for class 100 and 0.53 for class 200, suggesting it has a balance that is somewhat tilted towards class 100.\n",
    "\n",
    "In terms of model selection, the second classifier seems to be the best performer out of the three, given its higher accuracy and F1-Score. It would help to know which pre-processing technique (normalized, lemmatized, or stemmed) corresponds to each classifier to make a recommendation on which text processing method yields the best prediction results for the senators' parties."
   ]
  },
  {
   "cell_type": "code",
   "execution_count": null,
   "id": "738ac562-686a-4659-9219-d048689285d8",
   "metadata": {},
   "outputs": [],
   "source": []
  }
 ],
 "metadata": {
  "kernelspec": {
   "display_name": "Python 3 (ipykernel)",
   "language": "python",
   "name": "python3"
  },
  "language_info": {
   "codemirror_mode": {
    "name": "ipython",
    "version": 3
   },
   "file_extension": ".py",
   "mimetype": "text/x-python",
   "name": "python",
   "nbconvert_exporter": "python",
   "pygments_lexer": "ipython3",
   "version": "3.11.4"
  }
 },
 "nbformat": 4,
 "nbformat_minor": 5
}
