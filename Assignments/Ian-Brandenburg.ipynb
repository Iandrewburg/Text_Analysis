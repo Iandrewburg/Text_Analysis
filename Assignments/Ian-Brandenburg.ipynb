{
 "cells": [
  {
   "cell_type": "markdown",
   "id": "09e62257-0276-4313-b5be-2d07d560f0b6",
   "metadata": {},
   "source": [
    "# <Center>**Utilizing Text Analysis in Predicting Party Affiliations and Identifying Speech Similarities in the 105th Senate**\n",
    "    \n",
    "### <Center>Ian Brandenburg <center>[Medium Article](https://medium.com/@iandrewburg/utilizing-text-analysis-in-predicting-party-affiliations-and-identifying-speech-similarities-in-the-dd488c16cf18) <center> [GitHub Repo](https://github.com/Iandrewburg/Text_Analysis/tree/main/Assignments)\n",
    "\n",
    "    \n",
    "This text analysis assignment takes a look into senators' speeches compared to Biden's speeches. The objective is to determine which senators have the most similar speeches to Biden using cosine similarity. The speeches for each senator were use in aggregation of the senator instead of splitting up the speeches. Thus, the entire senator file was create as one document. The text will be processed utilizing three different text processing techniques. The first method is a basic text processing method, which tokenizes all of the text after lowercasing, removing numbers, punctuation, and SK Learn stopwords. The second text processing method utilizes stemming while the third utilizes lemmatization. Both of these methods are used on the already preprocessed text. \n",
    "    \n",
    "Once the text processing was complete, visualizations were developed in order to visualize the most similar senators' speeches to Biden's speeches. Additionally, these similarities were integrated with the sen105kh_fix.csv to see if the most similar speeches belong to senators from the same party and/or state. These validations were also visualized. \n",
    "    \n",
    "Finally, three predictive model measures were utilized to analyze the predictive power the speeches have in determining the party of the senator. These three models include: Linear Regression, Multinomial Naive Bayes, and Gaussian Naive Bayes. Each of them were run to compare their results. \n",
    "\n",
    "---\n"
   ]
  },
  {
   "cell_type": "code",
   "execution_count": 81,
   "id": "3a2f1ba4-1667-47b4-b3e5-22ef61b28f51",
   "metadata": {
    "tags": []
   },
   "outputs": [],
   "source": [
    "import os\n",
    "import time\n",
    "import re\n",
    "import string\n",
    "import pandas as pd\n",
    "import numpy as np\n",
    "import requests\n",
    "import matplotlib as plt\n",
    "import matplotlib.pyplot as plt\n",
    "from matplotlib.patches import Patch\n",
    "from collections import Counter\n",
    "\n",
    "from sklearn.feature_extraction.text import TfidfVectorizer, ENGLISH_STOP_WORDS, CountVectorizer\n",
    "from sklearn.metrics.pairwise import cosine_similarity\n",
    "from sklearn.model_selection import train_test_split\n",
    "from sklearn.naive_bayes import MultinomialNB, GaussianNB\n",
    "from sklearn.linear_model import LogisticRegression\n",
    "from sklearn.metrics import accuracy_score, classification_report\n",
    "from sklearn.utils.class_weight import compute_class_weight\n",
    "from sklearn.svm import SVC\n",
    "\n",
    "import nltk\n",
    "from nltk.stem import PorterStemmer, WordNetLemmatizer\n",
    "from nltk import word_tokenize, pos_tag\n",
    "from nltk.corpus import wordnet\n",
    "\n",
    "# Initializing the tfidf vectorizers\n",
    "tfidf_vectorizer = TfidfVectorizer()\n",
    "tfidf_vectorizer_stem = TfidfVectorizer()\n",
    "tfidf_vectorizer_lem = TfidfVectorizer()\n",
    "\n",
    "# Initializing the CountVectorizer (BoW model)\n",
    "count_vectorizer = CountVectorizer()\n",
    "\n",
    "# Initializing the Multinomial Naive Bayes classifier\n",
    "model_mnb = MultinomialNB()\n",
    "\n",
    "# Initialize the Gaussian Naive Bayes model\n",
    "model_gnb = GaussianNB()\n",
    "\n",
    "import warnings\n",
    "warnings.filterwarnings('ignore')\n"
   ]
  },
  {
   "cell_type": "code",
   "execution_count": 101,
   "id": "00e03875-0e14-4f81-be25-b9bc043a3c39",
   "metadata": {
    "tags": []
   },
   "outputs": [],
   "source": [
    "def read_speech(file_path):\n",
    "    with open(file_path, 'r') as file:\n",
    "        return file.read()\n",
    "\n",
    "def preprocess_text(text):\n",
    "    \"\"\"\n",
    "    Input: text\n",
    "    Output: Tokenized text that has been scrubbed. The text is\n",
    "    lower cased, and punctuation, numbers, and stopwords are removed.\n",
    "    \"\"\"\n",
    "    text = text.lower()\n",
    "    tokens = [word for word in text.split() if word.isalpha() and word not in ENGLISH_STOP_WORDS]\n",
    "    return ' '.join(tokens)\n",
    "\n",
    "\n",
    "def stem_text(text):\n",
    "    \"\"\"\n",
    "    Input: text (str): Preprocessed text to stem.\n",
    "    Output: str: The stemmed text.\n",
    "    \"\"\"\n",
    "    stemmer = PorterStemmer()\n",
    "    tokens = text.split()\n",
    "    stemmed_tokens = [stemmer.stem(token) for token in tokens]\n",
    "    return ' '.join(stemmed_tokens)\n",
    "\n",
    "\n",
    "def lemmatize_text(text):\n",
    "    \"\"\"\n",
    "    Input: text (str): Preprocessed text to lemmatize.\n",
    "    Output: str: The lemmatized text.\n",
    "    \"\"\"\n",
    "    lemmatizer = WordNetLemmatizer()\n",
    "    tokens = text.split()\n",
    "    lemmatized_tokens = [lemmatizer.lemmatize(token) for token in tokens]\n",
    "    return ' '.join(lemmatized_tokens)\n",
    "\n",
    "\n",
    "def plot_cosine_similarity_by_party(df, cosine_similarity_column):\n",
    "    \"\"\"\n",
    "    Plots the top 5 senators based on the specified cosine similarity column,\n",
    "    colored by party.\n",
    "\n",
    "    Parameters:\n",
    "    - df: DataFrame containing the senators' speeches and similarity scores.\n",
    "    - cosine_similarity_column: The name of the column with cosine similarity scores.\n",
    "    - plot_title: Optional. The title of the plot.\n",
    "    \"\"\"\n",
    "    top_senators = df.sort_values(by=cosine_similarity_column, ascending=False).iloc[1:6]\n",
    "    colors = ['blue' if party == 'Democrat' else 'red' for party in top_senators['party']]\n",
    "    # Creating the plot\n",
    "    plt.figure(figsize=(8, 4))\n",
    "    plt.bar(top_senators['name'], top_senators[cosine_similarity_column], color=colors)\n",
    "    \n",
    "    # Setting labels and title\n",
    "    plt.xlabel('')\n",
    "    plt.ylabel('')\n",
    "    plt.ylim(top_senators[cosine_similarity_column].min() - 0.01, top_senators[cosine_similarity_column].max() + 0.01)\n",
    "    plt.title(f'Top 5 Senators - {cosine_similarity_column}')\n",
    "    plt.xticks(rotation=45)\n",
    "    plt.legend(['Democrat', 'Republican'], loc='upper right')\n",
    "    plt.tight_layout()\n",
    "    plt.savefig(f\"Figures/top_5_senators_{cosine_similarity_column}.png\")\n",
    "    plt.show()\n",
    "    \n",
    "\n",
    "def plot_top_words(senator_name, speech_column):\n",
    "    \"\"\"\n",
    "    Plot the top 10 most frequent words for a given senator's speech.\n",
    "\n",
    "    Parameters:\n",
    "    - df: DataFrame containing the senators' speeches.\n",
    "    - senator_name: The name of the senator to plot the words for.\n",
    "    - speech_column: The column name containing the preprocessed speech text.\n",
    "    \"\"\"\n",
    "    # finding the row for the senator\n",
    "    senator_row = senators_speeches[senators_speeches['name'] == senator_name].iloc[0]\n",
    "    \n",
    "    # tokenizing the speech\n",
    "    words = senator_row[speech_column].split()\n",
    "    \n",
    "    # using the counter to count the frequency of each word\n",
    "    word_counts = Counter(words)\n",
    "    \n",
    "    # getting the top 10 most common words and their counts\n",
    "    top_words = word_counts.most_common(10)\n",
    "    \n",
    "    # unzipping the words and their counts\n",
    "    words, counts = zip(*top_words)\n",
    "    \n",
    "    # plot\n",
    "    plt.figure(figsize=(10, 6))\n",
    "    plt.bar(words, counts, color='#3b9e9e')\n",
    "    plt.xlabel('')\n",
    "    plt.ylabel('')\n",
    "    plt.title(f'Top 10 Most Frequent Words in {senator_name}\\'s Speeches')\n",
    "    plt.xticks(rotation=45)\n",
    "    plt.tight_layout()\n",
    "    plt.savefig(f\"Figures/most_frequent_words_{senator_name}.png\")\n",
    "    plt.show()\n",
    "\n",
    "def logistic_regression(X, y):\n",
    "    \"\"\"\n",
    "    Train a logistic regression model to predict the senator's party based on their precomputed TF-IDF matrix.\n",
    "    Uses class weights to handle class imbalance.\n",
    "\n",
    "    Parameters:\n",
    "    - X: The precomputed TF-IDF matrix of the speeches.\n",
    "    - y: The labels (party affiliations).\n",
    "    \"\"\"\n",
    "    # computing class weights to handle imbalance\n",
    "    classes = np.unique(y)\n",
    "    class_weights = compute_class_weight(class_weight='balanced', classes=classes, y=y)\n",
    "    class_weights_dict = dict(zip(classes, class_weights))\n",
    "    \n",
    "    # splitting the data into train and test sets\n",
    "    X_train, X_test, y_train, y_test = train_test_split(X, y, test_size=0.5, random_state=20240324)\n",
    "\n",
    "    # initializing logistic regression with computed class weights\n",
    "    model_lr = LogisticRegression(class_weight=class_weights_dict, max_iter=1000)\n",
    "\n",
    "    # training the classifier\n",
    "    model_lr.fit(X_train, y_train)\n",
    "\n",
    "    # predicting on the test data\n",
    "    y_predicted = model_lr.predict(X_test)\n",
    "\n",
    "    # calculating the accuracy\n",
    "    accuracy = accuracy_score(y_test, y_predicted)\n",
    "    print(classification_report(y_test, y_predicted, zero_division=0))\n",
    "\n",
    "    return accuracy\n",
    "\n",
    "\n",
    "def multinomial_nb(tfidf_matrix, y):\n",
    "    \n",
    "    # converting the party labels to numpy array\n",
    "    y = np.array(y)\n",
    "    \n",
    "    # splitting the data into training and testing sets\n",
    "    X_train, X_test, y_train, y_test = train_test_split(tfidf_matrix, y, test_size=0.5, random_state = 20240324)\n",
    "    \n",
    "    # training the model\n",
    "    model_mnb.fit(X_train, y_train)\n",
    "    \n",
    "    # predicting on the test data\n",
    "    y_pred = model_mnb.predict(X_test)\n",
    "    \n",
    "    # calculating the accuracy\n",
    "    accuracy = accuracy_score(y_test, y_pred)\n",
    "    print(classification_report(y_test, y_pred, zero_division=0))\n",
    "    \n",
    "    return accuracy\n",
    "\n",
    "\n",
    "def gaussian_nb(tfidf_matrix, y):\n",
    "    \n",
    "    # converting the party labels to numpy array\n",
    "    y = np.array(y)\n",
    "    \n",
    "    # Since GaussianNB does not support sparse input, converting the sparse TF-IDF matrix to dense\n",
    "    X_train, X_test, y_train, y_test = train_test_split(tfidf_matrix.toarray(), y, test_size=0.5, random_state=20240324)\n",
    "    \n",
    "    # training the model\n",
    "    model_gnb.fit(X_train, y_train)\n",
    "    \n",
    "    # predicting on the test data\n",
    "    y_pred = model_gnb.predict(X_test)\n",
    "    \n",
    "    # calculating the accuracy\n",
    "    accuracy = accuracy_score(y_test, y_pred)\n",
    "    print(classification_report(y_test, y_pred, zero_division=0))\n",
    "    \n",
    "    return accuracy"
   ]
  },
  {
   "cell_type": "code",
   "execution_count": 3,
   "id": "c626e191-65aa-49f0-965d-b997b3b806eb",
   "metadata": {
    "tags": []
   },
   "outputs": [],
   "source": [
    "# path to the directory containing the speeches\n",
    "speeches_dir = 'C:/Users/iandr/masters_coding/Second Semester/Python_Programming_Viz_Text/Course_Materials/Inputs/105-extracted-date'\n",
    "\n",
    "# Initialize an empty list to store each senator's speech data\n",
    "senator_speeches = []"
   ]
  },
  {
   "cell_type": "markdown",
   "id": "725f98c1-447a-41af-98e0-401a250dc8c6",
   "metadata": {},
   "source": [
    "### 1) Using cosine similarity to determine which senator's speech is closest to Senator Biden's. \n",
    "\n",
    "The text preprocessing measures were set in a function above in the function code chunk. The text is lower cased, with stopwords, numbers, symbols and punctuation being removed. This is because there is no need for these characters or words to be included in the analysis, as they just create extra unnecessary noise. The findings are validated with the `sen105kh_fix.csv` to see if the most similar speeches belong to the senators from the same state and/or party. None of the most similar speeches belonged to the same state, but the most similar speech belong to John Kerry, who belongs to the same party. \n"
   ]
  },
  {
   "cell_type": "markdown",
   "id": "e5f0e5f1-3b26-4863-9708-480472acb43e",
   "metadata": {},
   "source": [
    "#### Read speeches into the senator_speeches library\n",
    "\n",
    "Here, the senator speeches are read through the read speech function, and fed into the senator_speeches library, using the name of the documents (which includes the senators' name) as the key."
   ]
  },
  {
   "cell_type": "code",
   "execution_count": 4,
   "id": "906ba8d1-5a37-4a16-9ef6-ff88e92d3cce",
   "metadata": {
    "tags": []
   },
   "outputs": [],
   "source": [
    "for file_name in os.listdir(speeches_dir):\n",
    "    if file_name.endswith('.txt'):\n",
    "        \n",
    "        # extracting the state abbreviation, which is between the last dash and '.txt'\n",
    "        state_abbr = file_name[-6:-4]  # The state abbreviation is the two letters before '.txt'\n",
    "        \n",
    "        # Manually removing the first 4 characters ('105-') and the last 7 characters ('-xx.txt')\n",
    "        # to get the senator's name\n",
    "        senator_name = file_name[4:-7]\n",
    "        \n",
    "        file_path = os.path.join(speeches_dir, file_name)\n",
    "        \n",
    "        # using the read_speech function to get the speech content\n",
    "        speech_content = read_speech(file_path)\n",
    "        \n",
    "        # appending the senator's name, speech content, and state abbreviation as a tuple to the list\n",
    "        senator_speeches.append((senator_name, speech_content, state_abbr))\n"
   ]
  },
  {
   "cell_type": "code",
   "execution_count": 5,
   "id": "c199f57a-b418-4856-a4f0-7d7c38f580d8",
   "metadata": {
    "tags": []
   },
   "outputs": [
    {
     "data": {
      "text/html": [
       "<div>\n",
       "<style scoped>\n",
       "    .dataframe tbody tr th:only-of-type {\n",
       "        vertical-align: middle;\n",
       "    }\n",
       "\n",
       "    .dataframe tbody tr th {\n",
       "        vertical-align: top;\n",
       "    }\n",
       "\n",
       "    .dataframe thead th {\n",
       "        text-align: right;\n",
       "    }\n",
       "</style>\n",
       "<table border=\"1\" class=\"dataframe\">\n",
       "  <thead>\n",
       "    <tr style=\"text-align: right;\">\n",
       "      <th></th>\n",
       "      <th>name</th>\n",
       "      <th>speech</th>\n",
       "      <th>state_abbr</th>\n",
       "    </tr>\n",
       "  </thead>\n",
       "  <tbody>\n",
       "    <tr>\n",
       "      <th>0</th>\n",
       "      <td>abraham</td>\n",
       "      <td>&lt;DOC&gt;\\n&lt;DOCNO&gt;105-abraham-mi-1-19981112&lt;/DOCNO...</td>\n",
       "      <td>mi</td>\n",
       "    </tr>\n",
       "    <tr>\n",
       "      <th>1</th>\n",
       "      <td>akaka</td>\n",
       "      <td>&lt;DOC&gt;\\n&lt;DOCNO&gt;105-akaka-hi-1-19981021&lt;/DOCNO&gt;\\...</td>\n",
       "      <td>hi</td>\n",
       "    </tr>\n",
       "    <tr>\n",
       "      <th>2</th>\n",
       "      <td>allard</td>\n",
       "      <td>&lt;DOC&gt;\\n&lt;DOCNO&gt;105-allard-co-1-19981009&lt;/DOCNO&gt;...</td>\n",
       "      <td>co</td>\n",
       "    </tr>\n",
       "    <tr>\n",
       "      <th>3</th>\n",
       "      <td>ashcroft</td>\n",
       "      <td>&lt;DOC&gt;\\n&lt;DOCNO&gt;105-ashcroft-mo-1-19981021&lt;/DOCN...</td>\n",
       "      <td>mo</td>\n",
       "    </tr>\n",
       "    <tr>\n",
       "      <th>4</th>\n",
       "      <td>baucus</td>\n",
       "      <td>&lt;DOC&gt;\\n&lt;DOCNO&gt;105-baucus-mt-1-19981021&lt;/DOCNO&gt;...</td>\n",
       "      <td>mt</td>\n",
       "    </tr>\n",
       "    <tr>\n",
       "      <th>...</th>\n",
       "      <td>...</td>\n",
       "      <td>...</td>\n",
       "      <td>...</td>\n",
       "    </tr>\n",
       "    <tr>\n",
       "      <th>95</th>\n",
       "      <td>thurmond</td>\n",
       "      <td>&lt;DOC&gt;\\n&lt;DOCNO&gt;105-thurmond-sc-1-19981021&lt;/DOCN...</td>\n",
       "      <td>sc</td>\n",
       "    </tr>\n",
       "    <tr>\n",
       "      <th>96</th>\n",
       "      <td>torricelli</td>\n",
       "      <td>&lt;DOC&gt;\\n&lt;DOCNO&gt;105-torricelli-nj-1-19981012&lt;/DO...</td>\n",
       "      <td>nj</td>\n",
       "    </tr>\n",
       "    <tr>\n",
       "      <th>97</th>\n",
       "      <td>warner</td>\n",
       "      <td>&lt;DOC&gt;\\n&lt;DOCNO&gt;105-warner-va-1-19981021&lt;/DOCNO&gt;...</td>\n",
       "      <td>va</td>\n",
       "    </tr>\n",
       "    <tr>\n",
       "      <th>98</th>\n",
       "      <td>wellstone</td>\n",
       "      <td>&lt;DOC&gt;\\n&lt;DOCNO&gt;105-wellstone-mn-1-19981021&lt;/DOC...</td>\n",
       "      <td>mn</td>\n",
       "    </tr>\n",
       "    <tr>\n",
       "      <th>99</th>\n",
       "      <td>wyden</td>\n",
       "      <td>&lt;DOC&gt;\\n&lt;DOCNO&gt;105-wyden-or-1-19981021&lt;/DOCNO&gt;\\...</td>\n",
       "      <td>or</td>\n",
       "    </tr>\n",
       "  </tbody>\n",
       "</table>\n",
       "<p>100 rows × 3 columns</p>\n",
       "</div>"
      ],
      "text/plain": [
       "          name                                             speech state_abbr\n",
       "0      abraham  <DOC>\\n<DOCNO>105-abraham-mi-1-19981112</DOCNO...         mi\n",
       "1        akaka  <DOC>\\n<DOCNO>105-akaka-hi-1-19981021</DOCNO>\\...         hi\n",
       "2       allard  <DOC>\\n<DOCNO>105-allard-co-1-19981009</DOCNO>...         co\n",
       "3     ashcroft  <DOC>\\n<DOCNO>105-ashcroft-mo-1-19981021</DOCN...         mo\n",
       "4       baucus  <DOC>\\n<DOCNO>105-baucus-mt-1-19981021</DOCNO>...         mt\n",
       "..         ...                                                ...        ...\n",
       "95    thurmond  <DOC>\\n<DOCNO>105-thurmond-sc-1-19981021</DOCN...         sc\n",
       "96  torricelli  <DOC>\\n<DOCNO>105-torricelli-nj-1-19981012</DO...         nj\n",
       "97      warner  <DOC>\\n<DOCNO>105-warner-va-1-19981021</DOCNO>...         va\n",
       "98   wellstone  <DOC>\\n<DOCNO>105-wellstone-mn-1-19981021</DOC...         mn\n",
       "99       wyden  <DOC>\\n<DOCNO>105-wyden-or-1-19981021</DOCNO>\\...         or\n",
       "\n",
       "[100 rows x 3 columns]"
      ]
     },
     "execution_count": 5,
     "metadata": {},
     "output_type": "execute_result"
    }
   ],
   "source": [
    "# creating a DataFrame from the list\n",
    "speeches_df = pd.DataFrame(senator_speeches, columns=['name', 'speech', 'state_abbr'])\n",
    "\n",
    "# checking the dataframe to see the results \n",
    "speeches_df"
   ]
  },
  {
   "cell_type": "markdown",
   "id": "632d0819-520c-4eac-9f5c-0a0ba0967e28",
   "metadata": {},
   "source": [
    "#### Preprocess the speeches\n",
    "\n",
    "Using the preprocess function, preprocess all speeches in the library"
   ]
  },
  {
   "cell_type": "code",
   "execution_count": 6,
   "id": "d4ec0124-0ba2-47ab-a427-273fc8868c1f",
   "metadata": {
    "tags": []
   },
   "outputs": [
    {
     "data": {
      "text/html": [
       "<div>\n",
       "<style scoped>\n",
       "    .dataframe tbody tr th:only-of-type {\n",
       "        vertical-align: middle;\n",
       "    }\n",
       "\n",
       "    .dataframe tbody tr th {\n",
       "        vertical-align: top;\n",
       "    }\n",
       "\n",
       "    .dataframe thead th {\n",
       "        text-align: right;\n",
       "    }\n",
       "</style>\n",
       "<table border=\"1\" class=\"dataframe\">\n",
       "  <thead>\n",
       "    <tr style=\"text-align: right;\">\n",
       "      <th></th>\n",
       "      <th>name</th>\n",
       "      <th>state_abbr</th>\n",
       "      <th>processed_speech</th>\n",
       "    </tr>\n",
       "  </thead>\n",
       "  <tbody>\n",
       "    <tr>\n",
       "      <th>0</th>\n",
       "      <td>abraham</td>\n",
       "      <td>mi</td>\n",
       "      <td>debate final passage omnibus appropriations am...</td>\n",
       "    </tr>\n",
       "    <tr>\n",
       "      <th>1</th>\n",
       "      <td>akaka</td>\n",
       "      <td>hi</td>\n",
       "      <td>pleased senate passed veterans programs enhanc...</td>\n",
       "    </tr>\n",
       "    <tr>\n",
       "      <th>2</th>\n",
       "      <td>allard</td>\n",
       "      <td>co</td>\n",
       "      <td>rise make remarks concerning auto choice refor...</td>\n",
       "    </tr>\n",
       "    <tr>\n",
       "      <th>3</th>\n",
       "      <td>ashcroft</td>\n",
       "      <td>mo</td>\n",
       "      <td>senate like hear order happy yield colleague r...</td>\n",
       "    </tr>\n",
       "    <tr>\n",
       "      <th>4</th>\n",
       "      <td>baucus</td>\n",
       "      <td>mt</td>\n",
       "      <td>understand house sent senate substitute coast ...</td>\n",
       "    </tr>\n",
       "    <tr>\n",
       "      <th>...</th>\n",
       "      <td>...</td>\n",
       "      <td>...</td>\n",
       "      <td>...</td>\n",
       "    </tr>\n",
       "    <tr>\n",
       "      <th>95</th>\n",
       "      <td>thurmond</td>\n",
       "      <td>sc</td>\n",
       "      <td>senate considers authorize president award med...</td>\n",
       "    </tr>\n",
       "    <tr>\n",
       "      <th>96</th>\n",
       "      <td>torricelli</td>\n",
       "      <td>nj</td>\n",
       "      <td>president thank senator senator majority leade...</td>\n",
       "    </tr>\n",
       "    <tr>\n",
       "      <th>97</th>\n",
       "      <td>warner</td>\n",
       "      <td>va</td>\n",
       "      <td>past senate armed services committee conducted...</td>\n",
       "    </tr>\n",
       "    <tr>\n",
       "      <th>98</th>\n",
       "      <td>wellstone</td>\n",
       "      <td>mn</td>\n",
       "      <td>like attention small important issue addressed...</td>\n",
       "    </tr>\n",
       "    <tr>\n",
       "      <th>99</th>\n",
       "      <td>wyden</td>\n",
       "      <td>or</td>\n",
       "      <td>today congress passed version dungeness crab c...</td>\n",
       "    </tr>\n",
       "  </tbody>\n",
       "</table>\n",
       "<p>100 rows × 3 columns</p>\n",
       "</div>"
      ],
      "text/plain": [
       "          name state_abbr                                   processed_speech\n",
       "0      abraham         mi  debate final passage omnibus appropriations am...\n",
       "1        akaka         hi  pleased senate passed veterans programs enhanc...\n",
       "2       allard         co  rise make remarks concerning auto choice refor...\n",
       "3     ashcroft         mo  senate like hear order happy yield colleague r...\n",
       "4       baucus         mt  understand house sent senate substitute coast ...\n",
       "..         ...        ...                                                ...\n",
       "95    thurmond         sc  senate considers authorize president award med...\n",
       "96  torricelli         nj  president thank senator senator majority leade...\n",
       "97      warner         va  past senate armed services committee conducted...\n",
       "98   wellstone         mn  like attention small important issue addressed...\n",
       "99       wyden         or  today congress passed version dungeness crab c...\n",
       "\n",
       "[100 rows x 3 columns]"
      ]
     },
     "execution_count": 6,
     "metadata": {},
     "output_type": "execute_result"
    }
   ],
   "source": [
    "# preprocessing all speeches\n",
    "speeches_df['processed_speech'] = speeches_df['speech'].apply(preprocess_text)\n",
    "\n",
    "# dropping the 'speech' column from the DataFrame\n",
    "speeches_df = speeches_df.drop(columns=['speech'])\n",
    "\n",
    "# displaying the DataFrame to verify the column has been removed\n",
    "speeches_df"
   ]
  },
  {
   "cell_type": "markdown",
   "id": "84bcc31c-77c2-4c37-bb93-831dccfb2a83",
   "metadata": {},
   "source": [
    "#### Convert to TFIDF vectors and set biden's speech\n",
    "\n",
    "Convert the processed speeches to a tfidf matrix using the tfidf vectorizer, initialized along with the import libraries portion of the code. \n",
    "\n",
    "Additionally, this chunk of code sets biden's speeches as biden_index so that there is a speech to compare the others to in the cosine similarity. "
   ]
  },
  {
   "cell_type": "code",
   "execution_count": 7,
   "id": "d9b9c83e-4289-408e-a6b4-a6b881f3d3cd",
   "metadata": {
    "tags": []
   },
   "outputs": [],
   "source": [
    "# convert to TF-IDF vectors\n",
    "tfidf_matrix_norm = tfidf_vectorizer.fit_transform(speeches_df['processed_speech'])\n",
    "\n",
    "# setting biden's row\n",
    "biden_row = speeches_df[speeches_df['name'].str.contains('biden')].index[0]"
   ]
  },
  {
   "cell_type": "markdown",
   "id": "8fd7a861-0baa-4dc7-baff-b9d0511a072e",
   "metadata": {},
   "source": [
    "#### Applying the Cosine Similarity Function and printing the top 5 senators and their similarity scores to biden's speeches. \n"
   ]
  },
  {
   "cell_type": "code",
   "execution_count": 8,
   "id": "374e21ec-c1b4-4c40-bb61-c12a83ff49eb",
   "metadata": {
    "tags": []
   },
   "outputs": [
    {
     "data": {
      "text/html": [
       "<div>\n",
       "<style scoped>\n",
       "    .dataframe tbody tr th:only-of-type {\n",
       "        vertical-align: middle;\n",
       "    }\n",
       "\n",
       "    .dataframe tbody tr th {\n",
       "        vertical-align: top;\n",
       "    }\n",
       "\n",
       "    .dataframe thead th {\n",
       "        text-align: right;\n",
       "    }\n",
       "</style>\n",
       "<table border=\"1\" class=\"dataframe\">\n",
       "  <thead>\n",
       "    <tr style=\"text-align: right;\">\n",
       "      <th></th>\n",
       "      <th>name</th>\n",
       "      <th>state_abbr</th>\n",
       "      <th>processed_speech</th>\n",
       "      <th>preprocessed_co_sim</th>\n",
       "    </tr>\n",
       "  </thead>\n",
       "  <tbody>\n",
       "    <tr>\n",
       "      <th>59</th>\n",
       "      <td>kerry</td>\n",
       "      <td>ma</td>\n",
       "      <td>ask distinguished colleague chairman committee...</td>\n",
       "      <td>0.792525</td>\n",
       "    </tr>\n",
       "    <tr>\n",
       "      <th>61</th>\n",
       "      <td>kyl</td>\n",
       "      <td>az</td>\n",
       "      <td>parts concern proud provision known workplace ...</td>\n",
       "      <td>0.784532</td>\n",
       "    </tr>\n",
       "    <tr>\n",
       "      <th>51</th>\n",
       "      <td>hutchison</td>\n",
       "      <td>tx</td>\n",
       "      <td>happy yield senator want add wonderful words s...</td>\n",
       "      <td>0.782242</td>\n",
       "    </tr>\n",
       "    <tr>\n",
       "      <th>66</th>\n",
       "      <td>lieberman</td>\n",
       "      <td>ct</td>\n",
       "      <td>want add voice supporting passage vacancies re...</td>\n",
       "      <td>0.781326</td>\n",
       "    </tr>\n",
       "    <tr>\n",
       "      <th>81</th>\n",
       "      <td>roberts</td>\n",
       "      <td>ks</td>\n",
       "      <td>thank thank presiding officer yield domenici a...</td>\n",
       "      <td>0.776708</td>\n",
       "    </tr>\n",
       "  </tbody>\n",
       "</table>\n",
       "</div>"
      ],
      "text/plain": [
       "         name state_abbr                                   processed_speech  \\\n",
       "59      kerry         ma  ask distinguished colleague chairman committee...   \n",
       "61        kyl         az  parts concern proud provision known workplace ...   \n",
       "51  hutchison         tx  happy yield senator want add wonderful words s...   \n",
       "66  lieberman         ct  want add voice supporting passage vacancies re...   \n",
       "81    roberts         ks  thank thank presiding officer yield domenici a...   \n",
       "\n",
       "    preprocessed_co_sim  \n",
       "59             0.792525  \n",
       "61             0.784532  \n",
       "51             0.782242  \n",
       "66             0.781326  \n",
       "81             0.776708  "
      ]
     },
     "execution_count": 8,
     "metadata": {},
     "output_type": "execute_result"
    }
   ],
   "source": [
    "# computing cosine similarity matrix for TF-IDF vectors\n",
    "cosine_sim_matrix = cosine_similarity(tfidf_matrix_norm)\n",
    "\n",
    "# extracting the cosine similarity scores relative to Biden's speech\n",
    "biden_similarity_scores = cosine_sim_matrix[biden_row]\n",
    "\n",
    "# adding the scores to speeches_df\n",
    "speeches_df['preprocessed_co_sim'] = biden_similarity_scores\n",
    "\n",
    "# sorting the DataFrame by the new 'preprocessed_co_sim' column to get top similarity scores\n",
    "top_similar_speeches_df = speeches_df.sort_values(by='preprocessed_co_sim', ascending=False)\n",
    "top_similar_speeches_df.iloc[1:6]\n"
   ]
  },
  {
   "cell_type": "markdown",
   "id": "6772d8dc-bb74-4f12-ab21-2b8677fd75c3",
   "metadata": {},
   "source": [
    "#### Reading in the senator information CSV\n",
    "\n",
    "Here, the senator information CSV is read in, being separated by ';'. This is for comparing senator information to biden's to see if there are any visable similarites or consistentcies in the party or state of the top five most similar speeches to Biden's. "
   ]
  },
  {
   "cell_type": "code",
   "execution_count": 9,
   "id": "ed13e585-cb72-45fc-b979-df95018c008f",
   "metadata": {
    "tags": []
   },
   "outputs": [
    {
     "data": {
      "text/html": [
       "<div>\n",
       "<style scoped>\n",
       "    .dataframe tbody tr th:only-of-type {\n",
       "        vertical-align: middle;\n",
       "    }\n",
       "\n",
       "    .dataframe tbody tr th {\n",
       "        vertical-align: top;\n",
       "    }\n",
       "\n",
       "    .dataframe thead th {\n",
       "        text-align: right;\n",
       "    }\n",
       "</style>\n",
       "<table border=\"1\" class=\"dataframe\">\n",
       "  <thead>\n",
       "    <tr style=\"text-align: right;\">\n",
       "      <th></th>\n",
       "      <th>cong</th>\n",
       "      <th>name</th>\n",
       "      <th>state_abbr</th>\n",
       "      <th>state</th>\n",
       "      <th>id</th>\n",
       "      <th>dist</th>\n",
       "      <th>party</th>\n",
       "    </tr>\n",
       "  </thead>\n",
       "  <tbody>\n",
       "    <tr>\n",
       "      <th>0</th>\n",
       "      <td>105</td>\n",
       "      <td>sessions</td>\n",
       "      <td>al</td>\n",
       "      <td>ALABAMA</td>\n",
       "      <td>49700</td>\n",
       "      <td>0</td>\n",
       "      <td>Republican</td>\n",
       "    </tr>\n",
       "    <tr>\n",
       "      <th>1</th>\n",
       "      <td>105</td>\n",
       "      <td>shelby</td>\n",
       "      <td>al</td>\n",
       "      <td>ALABAMA</td>\n",
       "      <td>94659</td>\n",
       "      <td>0</td>\n",
       "      <td>Republican</td>\n",
       "    </tr>\n",
       "    <tr>\n",
       "      <th>2</th>\n",
       "      <td>105</td>\n",
       "      <td>murkowski</td>\n",
       "      <td>ak</td>\n",
       "      <td>ALASKA</td>\n",
       "      <td>14907</td>\n",
       "      <td>0</td>\n",
       "      <td>Republican</td>\n",
       "    </tr>\n",
       "    <tr>\n",
       "      <th>3</th>\n",
       "      <td>105</td>\n",
       "      <td>stevens</td>\n",
       "      <td>ak</td>\n",
       "      <td>ALASKA</td>\n",
       "      <td>12109</td>\n",
       "      <td>0</td>\n",
       "      <td>Republican</td>\n",
       "    </tr>\n",
       "    <tr>\n",
       "      <th>4</th>\n",
       "      <td>105</td>\n",
       "      <td>kyl</td>\n",
       "      <td>az</td>\n",
       "      <td>ARIZONA</td>\n",
       "      <td>15429</td>\n",
       "      <td>0</td>\n",
       "      <td>Republican</td>\n",
       "    </tr>\n",
       "  </tbody>\n",
       "</table>\n",
       "</div>"
      ],
      "text/plain": [
       "   cong       name state_abbr    state     id  dist       party\n",
       "0   105   sessions         al  ALABAMA  49700     0  Republican\n",
       "1   105     shelby         al  ALABAMA  94659     0  Republican\n",
       "2   105  murkowski         ak  ALASKA   14907     0  Republican\n",
       "3   105    stevens         ak  ALASKA   12109     0  Republican\n",
       "4   105        kyl         az  ARIZONA  15429     0  Republican"
      ]
     },
     "execution_count": 9,
     "metadata": {},
     "output_type": "execute_result"
    }
   ],
   "source": [
    "# path to the CSV file\n",
    "csv_path = \"C:/Users/iandr/masters_coding/Second Semester/Python_Programming_Viz_Text/Course_Materials/Inputs/sen105kh_fix.csv\"\n",
    "\n",
    "# loading the CSV for validation, using ';' as the separator \n",
    "senators_info = pd.read_csv(csv_path, sep=';')\n",
    "\n",
    "# establishing the csv column names, and the top five senators' name\n",
    "senators_info.columns = ['cong', 'name', 'state_abbr', 'state', 'id', 'dist', 'party']\n",
    "\n",
    "# Changing the 200 and 100 to their respective parties for easier analysis\n",
    "senators_info['party'] = senators_info['party'].replace({200: 'Republican', 100: 'Democrat'})\n",
    "senators_info.head()\n"
   ]
  },
  {
   "cell_type": "markdown",
   "id": "ac2743a7-4d99-4f24-af37-7dfb3ac735e7",
   "metadata": {},
   "source": [
    "#### Merging the two Dataframes\n",
    "\n",
    "This code merges the speech data and the senators info csv into one dataframe for a more streamlined analysis. The dataframes are merged on both name and state abbreviation because, after further investigation, there were two senators with the same name, causing merging issues. "
   ]
  },
  {
   "cell_type": "code",
   "execution_count": 10,
   "id": "2f208217-bedd-462c-b4d6-2a5e108358ee",
   "metadata": {
    "tags": []
   },
   "outputs": [
    {
     "data": {
      "text/html": [
       "<div>\n",
       "<style scoped>\n",
       "    .dataframe tbody tr th:only-of-type {\n",
       "        vertical-align: middle;\n",
       "    }\n",
       "\n",
       "    .dataframe tbody tr th {\n",
       "        vertical-align: top;\n",
       "    }\n",
       "\n",
       "    .dataframe thead th {\n",
       "        text-align: right;\n",
       "    }\n",
       "</style>\n",
       "<table border=\"1\" class=\"dataframe\">\n",
       "  <thead>\n",
       "    <tr style=\"text-align: right;\">\n",
       "      <th></th>\n",
       "      <th>name</th>\n",
       "      <th>state_abbr</th>\n",
       "      <th>processed_speech</th>\n",
       "      <th>preprocessed_co_sim</th>\n",
       "      <th>cong</th>\n",
       "      <th>state</th>\n",
       "      <th>id</th>\n",
       "      <th>dist</th>\n",
       "      <th>party</th>\n",
       "    </tr>\n",
       "  </thead>\n",
       "  <tbody>\n",
       "    <tr>\n",
       "      <th>0</th>\n",
       "      <td>abraham</td>\n",
       "      <td>mi</td>\n",
       "      <td>debate final passage omnibus appropriations am...</td>\n",
       "      <td>0.713053</td>\n",
       "      <td>105</td>\n",
       "      <td>MICHIGA</td>\n",
       "      <td>49500</td>\n",
       "      <td>0</td>\n",
       "      <td>Republican</td>\n",
       "    </tr>\n",
       "    <tr>\n",
       "      <th>1</th>\n",
       "      <td>akaka</td>\n",
       "      <td>hi</td>\n",
       "      <td>pleased senate passed veterans programs enhanc...</td>\n",
       "      <td>0.458571</td>\n",
       "      <td>105</td>\n",
       "      <td>HAWAII</td>\n",
       "      <td>14400</td>\n",
       "      <td>0</td>\n",
       "      <td>Democrat</td>\n",
       "    </tr>\n",
       "    <tr>\n",
       "      <th>2</th>\n",
       "      <td>allard</td>\n",
       "      <td>co</td>\n",
       "      <td>rise make remarks concerning auto choice refor...</td>\n",
       "      <td>0.656932</td>\n",
       "      <td>105</td>\n",
       "      <td>COLORAD</td>\n",
       "      <td>29108</td>\n",
       "      <td>0</td>\n",
       "      <td>Republican</td>\n",
       "    </tr>\n",
       "    <tr>\n",
       "      <th>3</th>\n",
       "      <td>ashcroft</td>\n",
       "      <td>mo</td>\n",
       "      <td>senate like hear order happy yield colleague r...</td>\n",
       "      <td>0.733304</td>\n",
       "      <td>105</td>\n",
       "      <td>MISSOUR</td>\n",
       "      <td>49501</td>\n",
       "      <td>0</td>\n",
       "      <td>Republican</td>\n",
       "    </tr>\n",
       "    <tr>\n",
       "      <th>4</th>\n",
       "      <td>baucus</td>\n",
       "      <td>mt</td>\n",
       "      <td>understand house sent senate substitute coast ...</td>\n",
       "      <td>0.714337</td>\n",
       "      <td>105</td>\n",
       "      <td>MONTANA</td>\n",
       "      <td>14203</td>\n",
       "      <td>0</td>\n",
       "      <td>Democrat</td>\n",
       "    </tr>\n",
       "  </tbody>\n",
       "</table>\n",
       "</div>"
      ],
      "text/plain": [
       "       name state_abbr                                   processed_speech  \\\n",
       "0   abraham         mi  debate final passage omnibus appropriations am...   \n",
       "1     akaka         hi  pleased senate passed veterans programs enhanc...   \n",
       "2    allard         co  rise make remarks concerning auto choice refor...   \n",
       "3  ashcroft         mo  senate like hear order happy yield colleague r...   \n",
       "4    baucus         mt  understand house sent senate substitute coast ...   \n",
       "\n",
       "   preprocessed_co_sim  cong    state     id  dist       party  \n",
       "0             0.713053   105  MICHIGA  49500     0  Republican  \n",
       "1             0.458571   105  HAWAII   14400     0    Democrat  \n",
       "2             0.656932   105  COLORAD  29108     0  Republican  \n",
       "3             0.733304   105  MISSOUR  49501     0  Republican  \n",
       "4             0.714337   105  MONTANA  14203     0    Democrat  "
      ]
     },
     "execution_count": 10,
     "metadata": {},
     "output_type": "execute_result"
    }
   ],
   "source": [
    "# merge speeches_df and senator_info DataFrames on the 'name' column\n",
    "senators_speeches = pd.merge(speeches_df, senators_info, on=['name', 'state_abbr'], how='left')\n",
    "senators_speeches.head()"
   ]
  },
  {
   "cell_type": "code",
   "execution_count": 11,
   "id": "1e37c0b2-a35f-4a34-a84d-d9473436793f",
   "metadata": {
    "tags": []
   },
   "outputs": [
    {
     "data": {
      "text/html": [
       "<div>\n",
       "<style scoped>\n",
       "    .dataframe tbody tr th:only-of-type {\n",
       "        vertical-align: middle;\n",
       "    }\n",
       "\n",
       "    .dataframe tbody tr th {\n",
       "        vertical-align: top;\n",
       "    }\n",
       "\n",
       "    .dataframe thead th {\n",
       "        text-align: right;\n",
       "    }\n",
       "</style>\n",
       "<table border=\"1\" class=\"dataframe\">\n",
       "  <thead>\n",
       "    <tr style=\"text-align: right;\">\n",
       "      <th></th>\n",
       "      <th>party</th>\n",
       "      <th>state_abbr</th>\n",
       "      <th>preprocessed_co_sim</th>\n",
       "      <th>name</th>\n",
       "    </tr>\n",
       "  </thead>\n",
       "  <tbody>\n",
       "    <tr>\n",
       "      <th>6</th>\n",
       "      <td>Democrat</td>\n",
       "      <td>de</td>\n",
       "      <td>1.000000</td>\n",
       "      <td>biden</td>\n",
       "    </tr>\n",
       "    <tr>\n",
       "      <th>59</th>\n",
       "      <td>Democrat</td>\n",
       "      <td>ma</td>\n",
       "      <td>0.792525</td>\n",
       "      <td>kerry</td>\n",
       "    </tr>\n",
       "    <tr>\n",
       "      <th>61</th>\n",
       "      <td>Republican</td>\n",
       "      <td>az</td>\n",
       "      <td>0.784532</td>\n",
       "      <td>kyl</td>\n",
       "    </tr>\n",
       "    <tr>\n",
       "      <th>51</th>\n",
       "      <td>Republican</td>\n",
       "      <td>tx</td>\n",
       "      <td>0.782242</td>\n",
       "      <td>hutchison</td>\n",
       "    </tr>\n",
       "    <tr>\n",
       "      <th>66</th>\n",
       "      <td>Democrat</td>\n",
       "      <td>ct</td>\n",
       "      <td>0.781326</td>\n",
       "      <td>lieberman</td>\n",
       "    </tr>\n",
       "    <tr>\n",
       "      <th>81</th>\n",
       "      <td>Republican</td>\n",
       "      <td>ks</td>\n",
       "      <td>0.776708</td>\n",
       "      <td>roberts</td>\n",
       "    </tr>\n",
       "  </tbody>\n",
       "</table>\n",
       "</div>"
      ],
      "text/plain": [
       "         party state_abbr  preprocessed_co_sim       name\n",
       "6     Democrat         de             1.000000      biden\n",
       "59    Democrat         ma             0.792525      kerry\n",
       "61  Republican         az             0.784532        kyl\n",
       "51  Republican         tx             0.782242  hutchison\n",
       "66    Democrat         ct             0.781326  lieberman\n",
       "81  Republican         ks             0.776708    roberts"
      ]
     },
     "execution_count": 11,
     "metadata": {},
     "output_type": "execute_result"
    }
   ],
   "source": [
    "# displaying the top five seantor speeches in comparison to bidens\n",
    "top_five_validated = senators_speeches.sort_values(by='preprocessed_co_sim', ascending=False)\n",
    "top_five_validated.iloc[0:6][['party', 'state_abbr', 'preprocessed_co_sim', 'name']]"
   ]
  },
  {
   "cell_type": "markdown",
   "id": "ea96df42-3c8d-44be-b28e-adfd66f62e6c",
   "metadata": {},
   "source": [
    "#### Party and State similarities\n",
    "\n",
    "The top five senators do not seem to have very many consistencies with Biden's speeches. Since there are only two parties, it could be considered a coincidence that there are similar parties to Biden's in the top five senators listed here. Only two senators have the same party, and no senator has the same state as Biden. "
   ]
  },
  {
   "cell_type": "markdown",
   "id": "0bb268cb-c624-4b57-a387-562988f1bb0f",
   "metadata": {
    "tags": []
   },
   "source": [
    "### 2) How do your results change if you apply stemming or lemmatization? In your opinion, which is better to apply: stemming or lemmatization? Why?\n",
    "---\n",
    "\n",
    "The results do change. Stemming and lemmatization increases the similarity scores as compared to the standard preprocessing. This is because these techniques remove extra noise in the data. Stemming seemed to be the best option, as it increased the cosine similarity the most. This is likely because it reduces words to its simple root word, whereas lemmatization narrows the text down to its root lemma based on the lexicon and also attempts to consider the meaning of the word. Stemming perhaps finds more similarities as a result of its simpler approach, but it should be noted that these can be a limitation because it can mislabel words since it does not consider the meaning of the words. "
   ]
  },
  {
   "cell_type": "code",
   "execution_count": 12,
   "id": "b95efaac-7933-4af3-a992-f2e2c55c5869",
   "metadata": {
    "tags": []
   },
   "outputs": [
    {
     "name": "stdout",
     "output_type": "stream",
     "text": [
      "Stemming completed. Time taken: 171.18s\n"
     ]
    }
   ],
   "source": [
    "# Applying stemming\n",
    "start_time = time.time()\n",
    "senators_speeches['stemmed_speech'] = senators_speeches['processed_speech'].apply(stem_text)\n",
    "print(f\"Stemming completed. Time taken: {time.time() - start_time:.2f}s\")\n"
   ]
  },
  {
   "cell_type": "code",
   "execution_count": 13,
   "id": "63bbd5d3-fa7f-4006-9410-1ec93a037011",
   "metadata": {
    "tags": []
   },
   "outputs": [
    {
     "name": "stdout",
     "output_type": "stream",
     "text": [
      "Lemmatization completed. Time taken: 5479.57s\n"
     ]
    }
   ],
   "source": [
    "# Applying lemmatizing\n",
    "start_time = time.time()\n",
    "senators_speeches['lemmatized_speech'] = senators_speeches['processed_speech'].apply(lemmatize_text)\n",
    "print(f\"Lemmatization completed. Time taken: {time.time() - start_time:.2f}s\")\n"
   ]
  },
  {
   "cell_type": "code",
   "execution_count": 14,
   "id": "3a08e970-78f8-42c9-ab0c-730408415e4d",
   "metadata": {
    "tags": []
   },
   "outputs": [
    {
     "name": "stdout",
     "output_type": "stream",
     "text": [
      "BoW vectorization completed. Time taken: 6.09s\n"
     ]
    }
   ],
   "source": [
    "# Applying Bag of Words\n",
    "start_time = time.time()\n",
    "bow_matrix = count_vectorizer.fit_transform(senators_speeches['processed_speech'])\n",
    "print(f\"BoW vectorization completed. Time taken: {time.time() - start_time:.2f}s\")"
   ]
  },
  {
   "cell_type": "code",
   "execution_count": 15,
   "id": "259e2ca1-d086-4906-9e1c-320270a78be9",
   "metadata": {
    "tags": []
   },
   "outputs": [
    {
     "name": "stdout",
     "output_type": "stream",
     "text": [
      "TF-IDF vectorization completed. Time taken: 10.67s\n"
     ]
    }
   ],
   "source": [
    "# Vectorizing the speeches\n",
    "start_time = time.time()\n",
    "tfidf_matrix_stem = tfidf_vectorizer_stem.fit_transform(senators_speeches['stemmed_speech'])\n",
    "tfidf_matrix_lemmatize = tfidf_vectorizer_lem.fit_transform(senators_speeches['lemmatized_speech'])\n",
    "print(f\"TF-IDF vectorization completed. Time taken: {time.time() - start_time:.2f}s\")\n"
   ]
  },
  {
   "cell_type": "code",
   "execution_count": 16,
   "id": "a9e9e09d-27dc-4be3-a3ec-77a7dc051419",
   "metadata": {
    "tags": []
   },
   "outputs": [],
   "source": [
    "# Calculating Cosine Similarity for both Stemmed and Lemmatized Speeches with biden's speeches\n",
    "cosine_sim_stem = cosine_similarity(tfidf_matrix_stem, tfidf_matrix_stem[biden_row:biden_row+1])\n",
    "cosine_sim_lem = cosine_similarity(tfidf_matrix_lemmatize, tfidf_matrix_lemmatize[biden_row:biden_row+1])\n",
    "cosine_sim_bow = cosine_similarity(bow_matrix, bow_matrix[biden_row:biden_row+1])"
   ]
  },
  {
   "cell_type": "code",
   "execution_count": 17,
   "id": "11d4c7da-65b6-48dc-a750-232da2e57a29",
   "metadata": {
    "tags": []
   },
   "outputs": [],
   "source": [
    "senators_speeches['stemming_co_sim'] = cosine_sim_stem.flatten()\n",
    "senators_speeches['lemmatization_co_sim'] = cosine_sim_lem.flatten()\n",
    "senators_speeches['bow_co_sim'] = cosine_sim_bow.flatten()"
   ]
  },
  {
   "cell_type": "code",
   "execution_count": 18,
   "id": "7bcf735c-6ea6-41d2-9875-9a3af8d3b9a7",
   "metadata": {
    "tags": []
   },
   "outputs": [
    {
     "data": {
      "text/html": [
       "<div>\n",
       "<style scoped>\n",
       "    .dataframe tbody tr th:only-of-type {\n",
       "        vertical-align: middle;\n",
       "    }\n",
       "\n",
       "    .dataframe tbody tr th {\n",
       "        vertical-align: top;\n",
       "    }\n",
       "\n",
       "    .dataframe thead th {\n",
       "        text-align: right;\n",
       "    }\n",
       "</style>\n",
       "<table border=\"1\" class=\"dataframe\">\n",
       "  <thead>\n",
       "    <tr style=\"text-align: right;\">\n",
       "      <th></th>\n",
       "      <th>name</th>\n",
       "      <th>state_abbr</th>\n",
       "      <th>party</th>\n",
       "      <th>stemming_co_sim</th>\n",
       "    </tr>\n",
       "  </thead>\n",
       "  <tbody>\n",
       "    <tr>\n",
       "      <th>6</th>\n",
       "      <td>biden</td>\n",
       "      <td>de</td>\n",
       "      <td>Democrat</td>\n",
       "      <td>1.000000</td>\n",
       "    </tr>\n",
       "    <tr>\n",
       "      <th>59</th>\n",
       "      <td>kerry</td>\n",
       "      <td>ma</td>\n",
       "      <td>Democrat</td>\n",
       "      <td>0.842858</td>\n",
       "    </tr>\n",
       "    <tr>\n",
       "      <th>61</th>\n",
       "      <td>kyl</td>\n",
       "      <td>az</td>\n",
       "      <td>Republican</td>\n",
       "      <td>0.834385</td>\n",
       "    </tr>\n",
       "    <tr>\n",
       "      <th>66</th>\n",
       "      <td>lieberman</td>\n",
       "      <td>ct</td>\n",
       "      <td>Democrat</td>\n",
       "      <td>0.831528</td>\n",
       "    </tr>\n",
       "    <tr>\n",
       "      <th>81</th>\n",
       "      <td>roberts</td>\n",
       "      <td>ks</td>\n",
       "      <td>Republican</td>\n",
       "      <td>0.828646</td>\n",
       "    </tr>\n",
       "    <tr>\n",
       "      <th>15</th>\n",
       "      <td>byrd</td>\n",
       "      <td>wv</td>\n",
       "      <td>Democrat</td>\n",
       "      <td>0.825766</td>\n",
       "    </tr>\n",
       "  </tbody>\n",
       "</table>\n",
       "</div>"
      ],
      "text/plain": [
       "         name state_abbr       party  stemming_co_sim\n",
       "6       biden         de    Democrat         1.000000\n",
       "59      kerry         ma    Democrat         0.842858\n",
       "61        kyl         az  Republican         0.834385\n",
       "66  lieberman         ct    Democrat         0.831528\n",
       "81    roberts         ks  Republican         0.828646\n",
       "15       byrd         wv    Democrat         0.825766"
      ]
     },
     "execution_count": 18,
     "metadata": {},
     "output_type": "execute_result"
    }
   ],
   "source": [
    "# displaying the top five most similar speeches to bidens when using stemming\n",
    "senators_speeches.sort_values(by='stemming_co_sim', ascending=False).iloc[0:6][['name', 'state_abbr', 'party', 'stemming_co_sim']]\n"
   ]
  },
  {
   "cell_type": "code",
   "execution_count": 19,
   "id": "872b06ce-7e59-468b-a374-42fcae0ae65f",
   "metadata": {
    "tags": []
   },
   "outputs": [
    {
     "data": {
      "text/html": [
       "<div>\n",
       "<style scoped>\n",
       "    .dataframe tbody tr th:only-of-type {\n",
       "        vertical-align: middle;\n",
       "    }\n",
       "\n",
       "    .dataframe tbody tr th {\n",
       "        vertical-align: top;\n",
       "    }\n",
       "\n",
       "    .dataframe thead th {\n",
       "        text-align: right;\n",
       "    }\n",
       "</style>\n",
       "<table border=\"1\" class=\"dataframe\">\n",
       "  <thead>\n",
       "    <tr style=\"text-align: right;\">\n",
       "      <th></th>\n",
       "      <th>name</th>\n",
       "      <th>state_abbr</th>\n",
       "      <th>party</th>\n",
       "      <th>lemmatization_co_sim</th>\n",
       "    </tr>\n",
       "  </thead>\n",
       "  <tbody>\n",
       "    <tr>\n",
       "      <th>6</th>\n",
       "      <td>biden</td>\n",
       "      <td>de</td>\n",
       "      <td>Democrat</td>\n",
       "      <td>1.000000</td>\n",
       "    </tr>\n",
       "    <tr>\n",
       "      <th>59</th>\n",
       "      <td>kerry</td>\n",
       "      <td>ma</td>\n",
       "      <td>Democrat</td>\n",
       "      <td>0.807746</td>\n",
       "    </tr>\n",
       "    <tr>\n",
       "      <th>61</th>\n",
       "      <td>kyl</td>\n",
       "      <td>az</td>\n",
       "      <td>Republican</td>\n",
       "      <td>0.801307</td>\n",
       "    </tr>\n",
       "    <tr>\n",
       "      <th>66</th>\n",
       "      <td>lieberman</td>\n",
       "      <td>ct</td>\n",
       "      <td>Democrat</td>\n",
       "      <td>0.799500</td>\n",
       "    </tr>\n",
       "    <tr>\n",
       "      <th>51</th>\n",
       "      <td>hutchison</td>\n",
       "      <td>tx</td>\n",
       "      <td>Republican</td>\n",
       "      <td>0.799329</td>\n",
       "    </tr>\n",
       "    <tr>\n",
       "      <th>81</th>\n",
       "      <td>roberts</td>\n",
       "      <td>ks</td>\n",
       "      <td>Republican</td>\n",
       "      <td>0.793694</td>\n",
       "    </tr>\n",
       "  </tbody>\n",
       "</table>\n",
       "</div>"
      ],
      "text/plain": [
       "         name state_abbr       party  lemmatization_co_sim\n",
       "6       biden         de    Democrat              1.000000\n",
       "59      kerry         ma    Democrat              0.807746\n",
       "61        kyl         az  Republican              0.801307\n",
       "66  lieberman         ct    Democrat              0.799500\n",
       "51  hutchison         tx  Republican              0.799329\n",
       "81    roberts         ks  Republican              0.793694"
      ]
     },
     "execution_count": 19,
     "metadata": {},
     "output_type": "execute_result"
    }
   ],
   "source": [
    "# displaying the top five most similar speeches to bidens when using lemmatization\n",
    "senators_speeches.sort_values(by='lemmatization_co_sim', ascending=False).iloc[0:6][['name', 'state_abbr', 'party', 'lemmatization_co_sim']]\n"
   ]
  },
  {
   "cell_type": "code",
   "execution_count": 20,
   "id": "9a51a07f-a28f-4a65-a443-5c73e7253d52",
   "metadata": {
    "tags": []
   },
   "outputs": [
    {
     "data": {
      "text/html": [
       "<div>\n",
       "<style scoped>\n",
       "    .dataframe tbody tr th:only-of-type {\n",
       "        vertical-align: middle;\n",
       "    }\n",
       "\n",
       "    .dataframe tbody tr th {\n",
       "        vertical-align: top;\n",
       "    }\n",
       "\n",
       "    .dataframe thead th {\n",
       "        text-align: right;\n",
       "    }\n",
       "</style>\n",
       "<table border=\"1\" class=\"dataframe\">\n",
       "  <thead>\n",
       "    <tr style=\"text-align: right;\">\n",
       "      <th></th>\n",
       "      <th>name</th>\n",
       "      <th>state_abbr</th>\n",
       "      <th>party</th>\n",
       "      <th>bow_co_sim</th>\n",
       "    </tr>\n",
       "  </thead>\n",
       "  <tbody>\n",
       "    <tr>\n",
       "      <th>6</th>\n",
       "      <td>biden</td>\n",
       "      <td>de</td>\n",
       "      <td>Democrat</td>\n",
       "      <td>1.000000</td>\n",
       "    </tr>\n",
       "    <tr>\n",
       "      <th>59</th>\n",
       "      <td>kerry</td>\n",
       "      <td>ma</td>\n",
       "      <td>Democrat</td>\n",
       "      <td>0.828760</td>\n",
       "    </tr>\n",
       "    <tr>\n",
       "      <th>35</th>\n",
       "      <td>feinstein</td>\n",
       "      <td>ca</td>\n",
       "      <td>Democrat</td>\n",
       "      <td>0.826931</td>\n",
       "    </tr>\n",
       "    <tr>\n",
       "      <th>66</th>\n",
       "      <td>lieberman</td>\n",
       "      <td>ct</td>\n",
       "      <td>Democrat</td>\n",
       "      <td>0.825679</td>\n",
       "    </tr>\n",
       "    <tr>\n",
       "      <th>51</th>\n",
       "      <td>hutchison</td>\n",
       "      <td>tx</td>\n",
       "      <td>Republican</td>\n",
       "      <td>0.821979</td>\n",
       "    </tr>\n",
       "    <tr>\n",
       "      <th>81</th>\n",
       "      <td>roberts</td>\n",
       "      <td>ks</td>\n",
       "      <td>Republican</td>\n",
       "      <td>0.820142</td>\n",
       "    </tr>\n",
       "  </tbody>\n",
       "</table>\n",
       "</div>"
      ],
      "text/plain": [
       "         name state_abbr       party  bow_co_sim\n",
       "6       biden         de    Democrat    1.000000\n",
       "59      kerry         ma    Democrat    0.828760\n",
       "35  feinstein         ca    Democrat    0.826931\n",
       "66  lieberman         ct    Democrat    0.825679\n",
       "51  hutchison         tx  Republican    0.821979\n",
       "81    roberts         ks  Republican    0.820142"
      ]
     },
     "execution_count": 20,
     "metadata": {},
     "output_type": "execute_result"
    }
   ],
   "source": [
    "# displaying the top five most similar speeches to bidens when using bag of words\n",
    "senators_speeches.sort_values(by='bow_co_sim', ascending=False).iloc[0:6][['name', 'state_abbr', 'party', 'bow_co_sim']]\n"
   ]
  },
  {
   "cell_type": "code",
   "execution_count": 49,
   "id": "994c7ec5-9bd2-44c8-83b7-355ad9b8b771",
   "metadata": {
    "tags": []
   },
   "outputs": [
    {
     "data": {
      "image/png": "[encoded data removed]",
      "text/plain": [
       "<Figure size 800x400 with 1 Axes>"
      ]
     },
     "metadata": {},
     "output_type": "display_data"
    }
   ],
   "source": [
    "plot_cosine_similarity_by_party(senators_speeches, 'preprocessed_co_sim')"
   ]
  },
  {
   "cell_type": "code",
   "execution_count": 50,
   "id": "c49c4ecf-ad49-47e1-8ad2-20eda692e77a",
   "metadata": {
    "tags": []
   },
   "outputs": [
    {
     "data": {
      "image/png": "[encoded data removed]",
      "text/plain": [
       "<Figure size 800x400 with 1 Axes>"
      ]
     },
     "metadata": {},
     "output_type": "display_data"
    }
   ],
   "source": [
    "plot_cosine_similarity_by_party(senators_speeches, 'stemming_co_sim')"
   ]
  },
  {
   "cell_type": "code",
   "execution_count": 51,
   "id": "db1759a2-9b83-47db-a1d9-908ffa694b00",
   "metadata": {
    "tags": []
   },
   "outputs": [
    {
     "data": {
      "image/png": "[encoded data removed]",
      "text/plain": [
       "<Figure size 800x400 with 1 Axes>"
      ]
     },
     "metadata": {},
     "output_type": "display_data"
    }
   ],
   "source": [
    "plot_cosine_similarity_by_party(senators_speeches, 'lemmatization_co_sim')"
   ]
  },
  {
   "cell_type": "code",
   "execution_count": 52,
   "id": "4a253e5e-c8d9-4cd2-bbc3-a372de94c879",
   "metadata": {
    "tags": []
   },
   "outputs": [
    {
     "data": {
      "image/png": "[encoded data removed]",
      "text/plain": [
       "<Figure size 800x400 with 1 Axes>"
      ]
     },
     "metadata": {},
     "output_type": "display_data"
    }
   ],
   "source": [
    "plot_cosine_similarity_by_party(senators_speeches, 'bow_co_sim')"
   ]
  },
  {
   "cell_type": "code",
   "execution_count": 25,
   "id": "102f060a-9f06-474a-8ce7-f0cb54c38269",
   "metadata": {
    "tags": []
   },
   "outputs": [
    {
     "data": {
      "image/png": "[encoded data removed]",
      "text/plain": [
       "<Figure size 1000x600 with 1 Axes>"
      ]
     },
     "metadata": {},
     "output_type": "display_data"
    }
   ],
   "source": [
    "# calculating the average cosine similarity by party\n",
    "avg_similarity_by_party = senators_speeches.groupby('party')['stemming_co_sim'].mean().reset_index()\n",
    "\n",
    "# plotting bar chart\n",
    "plt.figure(figsize=(10, 6))\n",
    "plt.bar(avg_similarity_by_party['party'], avg_similarity_by_party['stemming_co_sim'], color=['blue', 'red'])\n",
    "plt.xlabel('')\n",
    "plt.ylabel('')\n",
    "plt.title('Average Cosine Similarity to Biden’s Speeches by Political Party')\n",
    "plt.xticks(rotation=45)\n",
    "\n",
    "# narrowing the y-axis for a better visual representation\n",
    "plt.ylim(avg_similarity_by_party['stemming_co_sim'].min() - 0.01, avg_similarity_by_party['stemming_co_sim'].max() + 0.01)  # Set the limits for y-axis to make differences more pronounced\n",
    "\n",
    "plt.tight_layout()\n",
    "plt.savefig(\"Figures/avg_sim_by_party.png\")\n",
    "plt.show()"
   ]
  },
  {
   "cell_type": "markdown",
   "id": "713c8e0e-8c15-4f7d-a037-3400154498bc",
   "metadata": {},
   "source": [
    "The Democrat Party can be seen to have a slightly larger cosine similarity average as compared to the Republican Party. This suggests that the political affiliation does have some influence on similarity, but is not necessarily causal. With these mutually similar bi-partisan similarity scores, these text analysis techniques may not be the most efficient in determining the political affiliation of a politician, and political party may not explain why a senator's speeches are so similar to Biden's. There are large differences in the opinions held by each political party, so narrowing down the text to target even more meaningful text may be necessary for future research."
   ]
  },
  {
   "cell_type": "markdown",
   "id": "ac5c88f8-f393-454a-9978-d0692d201e53",
   "metadata": {},
   "source": [
    "### 3) Create at least two visualizations to support your analysis."
   ]
  },
  {
   "cell_type": "code",
   "execution_count": 26,
   "id": "c3cd419d-ef99-4b16-bd94-f0167512fbfe",
   "metadata": {
    "tags": []
   },
   "outputs": [
    {
     "data": {
      "image/png": "[encoded data removed]",
      "text/plain": [
       "<Figure size 800x600 with 1 Axes>"
      ]
     },
     "metadata": {},
     "output_type": "display_data"
    }
   ],
   "source": [
    "# calculating the average cosine similarity scores for each processing type\n",
    "mean_scores = pd.DataFrame({\n",
    "    'Type': ['stemming_co_sim', 'bow_co_sim', 'lemmatization_co_sim', 'preprocessed_co_sim'],\n",
    "    'Score': [\n",
    "        senators_speeches['stemming_co_sim'].mean(),\n",
    "        senators_speeches['bow_co_sim'].mean(),\n",
    "        senators_speeches['lemmatization_co_sim'].mean(),\n",
    "        senators_speeches['preprocessed_co_sim'].mean()\n",
    "    ]\n",
    "})\n",
    "\n",
    "# sorting the scores for plotting\n",
    "mean_scores = mean_scores.sort_values(by='Score')\n",
    "\n",
    "# plotting\n",
    "plt.figure(figsize=(8, 6))\n",
    "plt.bar(mean_scores['Type'], mean_scores['Score'], color='#3b9e9e')\n",
    "plt.title('Mean Similarity Scores by Text Processing Type')\n",
    "plt.xlabel('')\n",
    "plt.ylabel('')\n",
    "plt.xticks(rotation=45)\n",
    "\n",
    "# narrowing the y-axis to better visualize differences\n",
    "plt.ylim(mean_scores['Score'].min() - 0.01, mean_scores['Score'].max() + 0.01)\n",
    "\n",
    "plt.tight_layout()\n",
    "plt.savefig(\"Figures/mean_similarity_by_processing_type.png\")\n",
    "plt.show()"
   ]
  },
  {
   "cell_type": "markdown",
   "id": "45f0a107-a3b0-413d-a2a5-97da7f818dc3",
   "metadata": {},
   "source": [
    "Stemming seems to yield the most similar results. This could be viewed as a limitation, since sometimes the stemming algorithm can mistakenly generate incorrect root words to unrelated words, creating a higher similarity rate. Nevertheless, based on these results, the stemming method may be the most optimal method to proceed forward with. Thus, the top five most similar senator speeches to Biden are by Kerry (D), Kyl (R), Lieberman (D), Roberts (R), and Byrd (D)."
   ]
  },
  {
   "cell_type": "code",
   "execution_count": 27,
   "id": "e7e8e12c-af88-474f-89ef-25d26f79d042",
   "metadata": {
    "tags": []
   },
   "outputs": [
    {
     "data": {
      "image/png": "[encoded data removed]",
      "text/plain": [
       "<Figure size 1000x600 with 1 Axes>"
      ]
     },
     "metadata": {},
     "output_type": "display_data"
    },
    {
     "data": {
      "image/png": "[encoded data removed]",
      "text/plain": [
       "<Figure size 1000x600 with 1 Axes>"
      ]
     },
     "metadata": {},
     "output_type": "display_data"
    }
   ],
   "source": [
    "# plotting the top words\n",
    "plot_top_words(\"biden\", \"stemmed_speech\")\n",
    "plot_top_words(\"kerry\", \"stemmed_speech\")\n"
   ]
  },
  {
   "cell_type": "markdown",
   "id": "844db249-c572-4587-8344-dfb113f95516",
   "metadata": {},
   "source": [
    "The top words from Biden and Kerry's speeches were extracted and displayed in a count bar chart for comparison. Since the stemming method had the highest similarity scores on average, the most frequent words were extracted from the stemmed speeches.\n",
    "\n",
    "Some of the words displayed are not actually words, which is a fault in the stemming algorithms. Nevertheless, their meanings can be relatively understood. The words that both senators had most in common were: \"senat\", \"state\", \"make\", \"nation\", and \"year\". It is possible that these were significantly boost the similarity scores between Biden and Kerry's speeches. They do seem fairly generic political words, suggesting that future research creates a politician stop word list for more accurate similarities. This project is looking at the most similar speeches to Biden's, but may contain too much text noise in the analysis to most accurately represent the most similar speeches."
   ]
  },
  {
   "cell_type": "markdown",
   "id": "d7bf6602-cc65-42cf-abf2-6699d260c0d0",
   "metadata": {},
   "source": [
    "### 4) Use 'sen105kh_fix.csv' as the target variable for your predictions. \n",
    "- Can you predict the party of the senator from their speech? \n",
    "- Should you use the same text preprocessing as above? Justify your choices.\n",
    "---\n",
    "Three predictive modelling techniques were employed to compare results: Logistic Regression, Multinomial Naives Bayes, and Guassian Naive Bayes. Logistic regression works well for binary classification tasks, such as political party. Multinomial Naive Bayes performs good on word count vectors, such as the Bag of Words vector. Finally, the Gaussian Naive Bayes typically is used for continuous variables, and is not typical for text analysis, but will be used for comparison purposes. The test set was a 20% split of the 100 total senators in the full set.\n",
    "\n",
    "The best accuracy score shows that the speeches can predict the party of the politician 86% of the time. The same text preprocessing from above was used for the purpose of comparing each text preprocessing technique to determine if certain methods yielded greater predictive power. "
   ]
  },
  {
   "cell_type": "markdown",
   "id": "962ed2b9-27cc-48d6-ab97-4d30d5ca9463",
   "metadata": {},
   "source": [
    "#### Setting the y-variable as `party`"
   ]
  },
  {
   "cell_type": "code",
   "execution_count": 28,
   "id": "baa9ef2a-0552-4c90-a9cd-0eff1e4daef8",
   "metadata": {
    "tags": []
   },
   "outputs": [],
   "source": [
    "y = senators_speeches['party']\n"
   ]
  },
  {
   "cell_type": "markdown",
   "id": "80ceddbf-782e-443c-8877-72e927fb340e",
   "metadata": {},
   "source": [
    "#### Logistic Regression Model"
   ]
  },
  {
   "cell_type": "code",
   "execution_count": 102,
   "id": "09d05470-413f-4927-aa4d-44b44706aa0f",
   "metadata": {
    "tags": []
   },
   "outputs": [
    {
     "name": "stdout",
     "output_type": "stream",
     "text": [
      "LOGISTIC REGRESSION ANALYSIS\n",
      "------------------------------------------------------------\n",
      "Logistic Regression on TF-IDF Standard Text Processing\n",
      "              precision    recall  f1-score   support\n",
      "\n",
      "    Democrat       0.94      0.74      0.83        23\n",
      "  Republican       0.81      0.96      0.88        27\n",
      "\n",
      "    accuracy                           0.86        50\n",
      "   macro avg       0.88      0.85      0.86        50\n",
      "weighted avg       0.87      0.86      0.86        50\n",
      "\n",
      "0.86\n",
      "------------------------------------------------------------\n",
      "Logistic Regression on TF-IDF Lemmatized Text Processing\n",
      "              precision    recall  f1-score   support\n",
      "\n",
      "    Democrat       0.89      0.74      0.81        23\n",
      "  Republican       0.81      0.93      0.86        27\n",
      "\n",
      "    accuracy                           0.84        50\n",
      "   macro avg       0.85      0.83      0.84        50\n",
      "weighted avg       0.85      0.84      0.84        50\n",
      "\n",
      "0.84\n",
      "------------------------------------------------------------\n",
      "Logistic Regression on TF-IDF Stemmed Text Processing\n",
      "              precision    recall  f1-score   support\n",
      "\n",
      "    Democrat       0.89      0.74      0.81        23\n",
      "  Republican       0.81      0.93      0.86        27\n",
      "\n",
      "    accuracy                           0.84        50\n",
      "   macro avg       0.85      0.83      0.84        50\n",
      "weighted avg       0.85      0.84      0.84        50\n",
      "\n",
      "0.84\n",
      "------------------------------------------------------------\n",
      "Logistic Regression on BoW Standard Text Processing\n",
      "              precision    recall  f1-score   support\n",
      "\n",
      "    Democrat       0.86      0.78      0.82        23\n",
      "  Republican       0.83      0.89      0.86        27\n",
      "\n",
      "    accuracy                           0.84        50\n",
      "   macro avg       0.84      0.84      0.84        50\n",
      "weighted avg       0.84      0.84      0.84        50\n",
      "\n",
      "0.84\n"
     ]
    }
   ],
   "source": [
    "#using logistic regression to predict political party\n",
    "print(\"LOGISTIC REGRESSION ANALYSIS\")\n",
    "print(\"-\"*60)\n",
    "print(\"Logistic Regression on TF-IDF Standard Text Processing\")\n",
    "print(logistic_regression(tfidf_matrix_norm, y))\n",
    "print(\"-\"*60)\n",
    "print(\"Logistic Regression on TF-IDF Lemmatized Text Processing\")\n",
    "print(logistic_regression(tfidf_matrix_lemmatize, y))\n",
    "print(\"-\"*60)\n",
    "print(\"Logistic Regression on TF-IDF Stemmed Text Processing\")\n",
    "print(logistic_regression(tfidf_matrix_stem, y))\n",
    "print(\"-\"*60)\n",
    "print(\"Logistic Regression on BoW Standard Text Processing\")\n",
    "print(logistic_regression(bow_matrix, y))\n"
   ]
  },
  {
   "cell_type": "markdown",
   "id": "93e5fe41-7834-4196-9e10-b73120405e1a",
   "metadata": {},
   "source": [
    "In the logistic regression, the TF-IDF for standard processing achieves a 86% accuracy, suggesting that this text processing and vecotirzing technique is has strong predictive power. The TF-IDF stemmed text has the same accuracy, which could suggest that stemming actually does not influence the predictive power as compared to the TF-IDF for standard processing. Furthermore, the BoW performs at the same predictive accuracy score, suggesting that TF-IDF and Count Vectorizer do not significantly alter the predictive power of the model. However, the TF-IDF for the lemmatized text decreases the accuracy score to 0.84%, suggesting the lemmatizing decreases the predictive power.\n",
    "\n",
    "\n",
    "| Model               | Text Processing Method | Accuracy |\n",
    "|---------------------|------------------------|----------|\n",
    "| Logistic Regression | TF-IDF Standard        | 0.86     |\n",
    "| Logistic Regression | TF-IDF Stemming        | 0.86     |\n",
    "| Logistic Regression | TF-IDF Lemmatizing     | 0.84     |\n",
    "| Logistic Regression | BoW Standard           | 0.86     |"
   ]
  },
  {
   "cell_type": "markdown",
   "id": "287f3d04-2a87-4a3f-a7ee-77f4f565e212",
   "metadata": {},
   "source": [
    "#### Multinomial Naives Bayes"
   ]
  },
  {
   "cell_type": "code",
   "execution_count": 103,
   "id": "b9aa4ab1-0b88-4341-a0f6-6ee34cb7b43e",
   "metadata": {
    "tags": []
   },
   "outputs": [
    {
     "name": "stdout",
     "output_type": "stream",
     "text": [
      "MULTINOMIAL NAIVES BAYES\n",
      "------------------------------------------------------------\n",
      "Multinomial NB on TF-IDF Standard Text Processing\n",
      "              precision    recall  f1-score   support\n",
      "\n",
      "    Democrat       0.00      0.00      0.00        23\n",
      "  Republican       0.54      1.00      0.70        27\n",
      "\n",
      "    accuracy                           0.54        50\n",
      "   macro avg       0.27      0.50      0.35        50\n",
      "weighted avg       0.29      0.54      0.38        50\n",
      "\n",
      "0.54\n",
      "------------------------------------------------------------\n",
      "Multinomial NB on TF-IDF Lemmatized Text Processing\n",
      "              precision    recall  f1-score   support\n",
      "\n",
      "    Democrat       0.00      0.00      0.00        23\n",
      "  Republican       0.54      1.00      0.70        27\n",
      "\n",
      "    accuracy                           0.54        50\n",
      "   macro avg       0.27      0.50      0.35        50\n",
      "weighted avg       0.29      0.54      0.38        50\n",
      "\n",
      "0.54\n",
      "------------------------------------------------------------\n",
      "Multinomial NB on TF-IDF Stemmed Text Processing\n",
      "              precision    recall  f1-score   support\n",
      "\n",
      "    Democrat       0.00      0.00      0.00        23\n",
      "  Republican       0.54      1.00      0.70        27\n",
      "\n",
      "    accuracy                           0.54        50\n",
      "   macro avg       0.27      0.50      0.35        50\n",
      "weighted avg       0.29      0.54      0.38        50\n",
      "\n",
      "0.54\n",
      "------------------------------------------------------------\n",
      "Multinomial NB on BoW Standard Text Processing\n",
      "              precision    recall  f1-score   support\n",
      "\n",
      "    Democrat       0.86      0.78      0.82        23\n",
      "  Republican       0.83      0.89      0.86        27\n",
      "\n",
      "    accuracy                           0.84        50\n",
      "   macro avg       0.84      0.84      0.84        50\n",
      "weighted avg       0.84      0.84      0.84        50\n",
      "\n",
      "0.84\n"
     ]
    }
   ],
   "source": [
    "# using multinomial naives bayes to predict political party\n",
    "print(\"MULTINOMIAL NAIVES BAYES\")\n",
    "print(\"-\"*60)\n",
    "print(\"Multinomial NB on TF-IDF Standard Text Processing\")\n",
    "print(multinomial_nb(tfidf_matrix_norm, y))\n",
    "print(\"-\"*60)\n",
    "print(\"Multinomial NB on TF-IDF Lemmatized Text Processing\")\n",
    "print(multinomial_nb(tfidf_matrix_lemmatize, y))\n",
    "print(\"-\"*60)\n",
    "print(\"Multinomial NB on TF-IDF Stemmed Text Processing\")\n",
    "print(multinomial_nb(tfidf_matrix_stem, y))\n",
    "print(\"-\"*60)\n",
    "print(\"Multinomial NB on BoW Standard Text Processing\")\n",
    "print(multinomial_nb(bow_matrix, y))"
   ]
  },
  {
   "cell_type": "markdown",
   "id": "27082b11-3baf-4e8e-9113-89315a7dd4b9",
   "metadata": {},
   "source": [
    "As expected, the BoW standard text processing performs the best in the Multinomial Naives Bayes model with a 0.84 accuracy score, as this model is best used with count vectors in text. The three TF-IDF text processing methods did not perform as good, all at an accuracy of 0.54. This also suggests that the addition of stemming and lemmatizing does not change the predictive power in the Multinomial NB model.\n",
    "\n",
    "| Model               | Text Processing Method | Accuracy |\n",
    "|---------------------|------------------------|----------|\n",
    "| Logistic Regression | TF-IDF Standard        | 0.86     |\n",
    "| Logistic Regression | TF-IDF Stemming        | 0.86     |\n",
    "| Logistic Regression | TF-IDF Lemmatizing     | 0.84     |\n",
    "| Logistic Regression | BoW Standard           | 0.86     |\n",
    "| Multinomial NB      | TF-IDF Standard        | 0.54     |\n",
    "| Multinomial NB      | TF-IDF Stemming        | 0.54     |\n",
    "| Multinomial NB      | TF-IDF Lemmatizing     | 0.54     |\n",
    "| Multinomial NB      | BoW Standard           | 0.84     |"
   ]
  },
  {
   "cell_type": "markdown",
   "id": "5e6923db-e204-4694-910a-6e850ae2e63c",
   "metadata": {},
   "source": [
    "#### Guassian Naives Bayes"
   ]
  },
  {
   "cell_type": "code",
   "execution_count": 104,
   "id": "0a8f295f-5cb3-465f-ae62-fd10c74d4852",
   "metadata": {
    "tags": []
   },
   "outputs": [
    {
     "name": "stdout",
     "output_type": "stream",
     "text": [
      "GAUSSIAN NAIVES BAYES\n",
      "------------------------------------------------------------\n",
      "Gaussian NB on TF-IDF Standard Text Processing\n",
      "              precision    recall  f1-score   support\n",
      "\n",
      "    Democrat       0.50      0.35      0.41        23\n",
      "  Republican       0.56      0.70      0.62        27\n",
      "\n",
      "    accuracy                           0.54        50\n",
      "   macro avg       0.53      0.53      0.52        50\n",
      "weighted avg       0.53      0.54      0.53        50\n",
      "\n",
      "0.54\n",
      "------------------------------------------------------------\n",
      "Gaussian NB on TF-IDF Lemmatized Text Processing\n",
      "              precision    recall  f1-score   support\n",
      "\n",
      "    Democrat       0.47      0.35      0.40        23\n",
      "  Republican       0.55      0.67      0.60        27\n",
      "\n",
      "    accuracy                           0.52        50\n",
      "   macro avg       0.51      0.51      0.50        50\n",
      "weighted avg       0.51      0.52      0.51        50\n",
      "\n",
      "0.52\n",
      "------------------------------------------------------------\n",
      "Gaussian NB on TF-IDF Stemmed Text Processing\n",
      "              precision    recall  f1-score   support\n",
      "\n",
      "    Democrat       0.50      0.39      0.44        23\n",
      "  Republican       0.56      0.67      0.61        27\n",
      "\n",
      "    accuracy                           0.54        50\n",
      "   macro avg       0.53      0.53      0.52        50\n",
      "weighted avg       0.53      0.54      0.53        50\n",
      "\n",
      "0.54\n",
      "------------------------------------------------------------\n",
      "Gaussian NB on BoW Standard Text Processing\n",
      "              precision    recall  f1-score   support\n",
      "\n",
      "    Democrat       0.53      0.35      0.42        23\n",
      "  Republican       0.57      0.74      0.65        27\n",
      "\n",
      "    accuracy                           0.56        50\n",
      "   macro avg       0.55      0.54      0.53        50\n",
      "weighted avg       0.55      0.56      0.54        50\n",
      "\n",
      "0.56\n"
     ]
    }
   ],
   "source": [
    "# using gaussian naives bayes to predict political party\n",
    "print(\"GAUSSIAN NAIVES BAYES\")\n",
    "print(\"-\"*60)\n",
    "print(\"Gaussian NB on TF-IDF Standard Text Processing\")\n",
    "print(gaussian_nb(tfidf_matrix_norm, y))\n",
    "print(\"-\"*60)\n",
    "print(\"Gaussian NB on TF-IDF Lemmatized Text Processing\")\n",
    "print(gaussian_nb(tfidf_matrix_lemmatize, y))\n",
    "print(\"-\"*60)\n",
    "print(\"Gaussian NB on TF-IDF Stemmed Text Processing\")\n",
    "print(gaussian_nb(tfidf_matrix_stem, y))\n",
    "print(\"-\"*60)\n",
    "print(\"Gaussian NB on BoW Standard Text Processing\")\n",
    "print(gaussian_nb(bow_matrix, y))"
   ]
  },
  {
   "cell_type": "markdown",
   "id": "cba8ee21-3020-461a-96c6-1ae82c052b7b",
   "metadata": {},
   "source": [
    "The Gaussian Naives Bayes model does not perform very well compared to the Multinomial Naives Bayes or Logistic Regression models. This was expected, as the Guassian NB is designed for continuous variables. The TF-IDF and counter vectors can pass through the Guassian NB mdoel, but is not ideal for predicting with text data on binary variables.\n",
    "\n",
    "\n",
    "| Model               | Text Processing Method | Accuracy |\n",
    "|---------------------|------------------------|----------|\n",
    "| Logistic Regression | TF-IDF Standard        | 0.86     |\n",
    "| Logistic Regression | TF-IDF Stemming        | 0.86     |\n",
    "| Logistic Regression | TF-IDF Lemmatizing     | 0.84     |\n",
    "| Logistic Regression | BoW Standard           | 0.86     |\n",
    "| Multinomial NB      | TF-IDF Standard        | 0.54     |\n",
    "| Multinomial NB      | TF-IDF Stemming        | 0.54     |\n",
    "| Multinomial NB      | TF-IDF Lemmatizing     | 0.54     |\n",
    "| Multinomial NB      | BoW Standard           | 0.84     |\n",
    "| Gaussian NB         | TF-IDF Standard        | 0.54     |\n",
    "| Gaussian NB         | TF-IDF Stemming        | 0.52     |\n",
    "| Gaussian NB         | TF-IDF Lemmatizing     | 0.54     |\n",
    "| Gaussian NB         | BoW Standard           | 0.56     |"
   ]
  }
 ],
 "metadata": {
  "kernelspec": {
   "display_name": "Python 3 (ipykernel)",
   "language": "python",
   "name": "python3"
  },
  "language_info": {
   "codemirror_mode": {
    "name": "ipython",
    "version": 3
   },
   "file_extension": ".py",
   "mimetype": "text/x-python",
   "name": "python",
   "nbconvert_exporter": "python",
   "pygments_lexer": "ipython3",
   "version": "3.11.4"
  }
 },
 "nbformat": 4,
 "nbformat_minor": 5
}
