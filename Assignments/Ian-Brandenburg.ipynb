{
 "cells": [
  {
   "cell_type": "markdown",
   "id": "09e62257-0276-4313-b5be-2d07d560f0b6",
   "metadata": {},
   "source": [
    "# Assignment 1: Text Analysis over Political Speaches\n",
    "\n",
    "You will be working with senator speeches located in the '105-extracted-date' folder within the 'Inputs' directory. Please complete the following tasks:\n",
    "\n",
    "i) Use cosine similarity to determine which senator's speech is closest to Senator Biden's. Describe your findings. Make sure to describe your text preprocessing and justify your choices. Validate your findings using 'sen105kh_fix.csv' and/or Wikipedia to see if the most similar speeches belong to senators from the same state and/or party. \n",
    "\n",
    "ii) How do your results change if you apply stemming or lemmatization? In your opinion, which is better to apply: stemming or lemmatization? Why?\n",
    "\n",
    "iii) Create at least two visualizations to support your analysis.\n",
    "\n",
    "iv) Use 'sen105kh_fix.csv' as the target variable for your predictions. Can you predict the 'party' of the senator from their speech? Should you use the same text preprocessing as above? Justify your choices. Probably going to use MultinomialNB() for prediction. In class, we predicted the label.\n",
    "\n",
    "v) Write a Medium article summarizing your findings. This article should be written with a general audience in mind. The best articles may be invited for submission to CEU Economic Threads.\n",
    "\n",
    "vi) Bonus 10 points: Read one of the articles that I have linked in this Medium post. Contrast your findings in i) with theirs and discuss any discrepancies. What are possible solutions?\n",
    "\n",
    "## Things I need to do to this assignment\n",
    "\n",
    "- Simplify code\n",
    "- Remove stopwords\n"
   ]
  },
  {
   "cell_type": "code",
   "execution_count": 1,
   "id": "3a2f1ba4-1667-47b4-b3e5-22ef61b28f51",
   "metadata": {},
   "outputs": [],
   "source": [
    "import os\n",
    "import time\n",
    "import pandas as pd\n",
    "from sklearn.feature_extraction.text import TfidfVectorizer\n",
    "from sklearn.metrics.pairwise import cosine_similarity\n",
    "from nltk.stem import PorterStemmer, WordNetLemmatizer\n",
    "from nltk import word_tokenize, pos_tag\n",
    "from nltk.corpus import wordnet\n",
    "import nltk\n",
    "import matplotlib as plt\n",
    "from sklearn.feature_extraction.text import ENGLISH_STOP_WORDS"
   ]
  },
  {
   "cell_type": "markdown",
   "id": "725f98c1-447a-41af-98e0-401a250dc8c6",
   "metadata": {},
   "source": [
    "# i) Use cosine similarity to determine which senator's speech is closest to Senator Biden's. Describe your findings. Make sure to describe your text preprocessing and justify your choices. Validate your findings using **'sen105kh_fix.csv'** and/or Wikipedia to see if the most similar speeches belong to senators from the same state and/or party. "
   ]
  },
  {
   "cell_type": "code",
   "execution_count": 5,
   "id": "5dd64537-a94c-44df-b7ec-cd953267e61f",
   "metadata": {
    "tags": []
   },
   "outputs": [
    {
     "data": {
      "text/plain": [
       "['105-abraham-mi',\n",
       " '105-akaka-hi',\n",
       " '105-allard-co',\n",
       " '105-ashcroft-mo',\n",
       " '105-baucus-mt']"
      ]
     },
     "execution_count": 5,
     "metadata": {},
     "output_type": "execute_result"
    }
   ],
   "source": [
    "# function to read the speaches\n",
    "def read_speech(file_path):\n",
    "    with open(file_path, 'r') as file:\n",
    "        return file.read()\n",
    "\n",
    "\n",
    "# Path to the directory containing the speeches\n",
    "speeches_dir = 'C:/Users/iandr/masters_coding/Second Semester/Python_Programming_Viz_Text/Course_Materials/Inputs/105-extracted-date'\n",
    "\n",
    "# Dictionary to hold senator name and their speech\n",
    "senator_speeches = {}\n",
    "\n",
    "for file_name in os.listdir(speeches_dir):\n",
    "    if file_name.endswith('.txt'):\n",
    "        # Extract senator name from file name or another way you have structured it\n",
    "        senator_name = file_name.replace('.txt', '')\n",
    "        file_path = os.path.join(speeches_dir, file_name)\n",
    "        senator_speeches[senator_name] = read_speech(file_path)\n",
    "\n",
    "# Just to check the first 5 senator names\n",
    "list(senator_speeches.keys())[:5]\n"
   ]
  },
  {
   "cell_type": "code",
   "execution_count": 6,
   "id": "d9b9c83e-4289-408e-a6b4-a6b881f3d3cd",
   "metadata": {
    "tags": []
   },
   "outputs": [],
   "source": [
    "# Function to preprocess text\n",
    "def preprocess_text(text):\n",
    "    # Lowercase\n",
    "    text = text.lower()\n",
    "    # Remove punctuation/numbers and tokenize\n",
    "    tokens = [word for word in text.split() if word.isalpha() and word not in ENGLISH_STOP_WORDS]\n",
    "    return ' '.join(tokens)\n",
    "\n",
    "# preprocessing all speeches\n",
    "processed_speeches = {senator: preprocess_text(speech) for senator, speech in senator_speeches.items()}\n",
    "\n",
    "# convert to TF-IDF vectors\n",
    "tfidf_vectorizer = TfidfVectorizer()\n",
    "tfidf_matrix = tfidf_vectorizer.fit_transform(processed_speeches.values())\n",
    "\n",
    "# setting biden's speach to `biden_index` for consine similarity comparison\n",
    "biden_index = list(processed_speeches.keys()).index('105-biden-de') \n"
   ]
  },
  {
   "cell_type": "code",
   "execution_count": 7,
   "id": "26ab0390-9746-41fd-a0fe-f2cbc02d81f3",
   "metadata": {
    "tags": []
   },
   "outputs": [
    {
     "name": "stdout",
     "output_type": "stream",
     "text": [
      "105-kerry-ma: 0.7925\n",
      "105-kyl-az: 0.7845\n",
      "105-hutchison-tx: 0.7822\n",
      "105-lieberman-ct: 0.7813\n",
      "105-roberts-ks: 0.7767\n"
     ]
    }
   ],
   "source": [
    "# calculate the cosine similarity to biden's speech\n",
    "cosine_similarities = cosine_similarity(tfidf_matrix[biden_index], tfidf_matrix).flatten()\n",
    "\n",
    "# creating a dictionary to hold the similarity scores\n",
    "similarity_scores = {senator: score for senator, score in zip(processed_speeches.keys(), cosine_similarities)}\n",
    "\n",
    "# Sort the senators by similarity score\n",
    "sorted_similarities = sorted(similarity_scores.items(), key=lambda item: item[1], reverse=True)\n",
    "\n",
    "# Display the top 5 most similar speeches to Biden's\n",
    "for senator, score in sorted_similarities[1:6]:  # Skipping the first one because it's Biden's\n",
    "    print(f\"{senator}: {score:.4f}\")\n"
   ]
  },
  {
   "cell_type": "code",
   "execution_count": 5,
   "id": "ed13e585-cb72-45fc-b979-df95018c008f",
   "metadata": {
    "tags": []
   },
   "outputs": [
    {
     "name": "stdout",
     "output_type": "stream",
     "text": [
      "   cong      lname stateab   lstate     id  dist  party\n",
      "0   105   sessions      al  ALABAMA  49700     0    200\n",
      "1   105     shelby      al  ALABAMA  94659     0    200\n",
      "2   105  murkowski      ak  ALASKA   14907     0    200\n",
      "3   105    stevens      ak  ALASKA   12109     0    200\n",
      "4   105        kyl      az  ARIZONA  15429     0    200\n"
     ]
    }
   ],
   "source": [
    "import pandas as pd\n",
    "\n",
    "# Define the path to the CSV file\n",
    "csv_path = \"C:/Users/iandr/masters_coding/Second Semester/Python_Programming_Viz_Text/Course_Materials/Inputs/sen105kh_fix.csv\"\n",
    "\n",
    "# Load the CSV for validation, using ';' as the separator since that's what your file is using.\n",
    "senators_info = pd.read_csv(csv_path, sep=';')\n",
    "\n",
    "# Let's check the DataFrame to ensure it's loaded correctly\n",
    "print(senators_info.head())\n"
   ]
  },
  {
   "cell_type": "code",
   "execution_count": 6,
   "id": "ef34d78e-2d5a-45a1-9fc1-82a269a0ca8e",
   "metadata": {
    "tags": []
   },
   "outputs": [
    {
     "name": "stdout",
     "output_type": "stream",
     "text": [
      "Biden's party: 100\n",
      "Biden's state abbreviation: de\n",
      "Senator kerry-ma is from MA and belongs to party 100\n",
      "Commonality with Biden - State: No, Party: Yes\n",
      "Senator kyl-az is from AZ and belongs to party 200\n",
      "Commonality with Biden - State: No, Party: No\n",
      "Senator hutchison-tx is from TX and belongs to party 200\n",
      "Commonality with Biden - State: No, Party: No\n",
      "Senator lieberman-ct is from CT and belongs to party 100\n",
      "Commonality with Biden - State: No, Party: Yes\n",
      "Senator roberts-ks is from KS and belongs to party 200\n",
      "Commonality with Biden - State: No, Party: No\n"
     ]
    }
   ],
   "source": [
    "# Load the CSV for validation, using ';' as the separator\n",
    "senators_info = pd.read_csv(csv_path, sep=';')\n",
    "senators_info.columns = ['cong', 'name', 'state_abbr', 'state', 'id', 'dist', 'party']\n",
    "top_5_senators = ['kerry-ma', 'kyl-az', 'hutchison-tx', 'lieberman-ct', 'roberts-ks']\n",
    "\n",
    "# Let's find Biden's party and state for reference\n",
    "biden_info = senators_info[senators_info['name'].str.contains('biden')]\n",
    "biden_party = biden_info['party'].iloc[0]\n",
    "biden_state_abbr = biden_info['state_abbr'].iloc[0]\n",
    "\n",
    "print(f\"Biden's party: {biden_party}\")\n",
    "print(f\"Biden's state abbreviation: {biden_state_abbr}\")\n",
    "\n",
    "# Now let's extract the information for the top 5 senators\n",
    "for senator in top_5_senators:\n",
    "    # Each senator string is formatted as 'last_name-state_abbr'\n",
    "    senator_last_name, senator_state_abbr = senator.split('-')\n",
    "    \n",
    "    # Look up this senator in the senators_info DataFrame\n",
    "    senator_info = senators_info[\n",
    "        (senators_info['name'].str.lower().str.contains(senator_last_name)) & \n",
    "        (senators_info['state_abbr'].str.lower() == senator_state_abbr.lower())\n",
    "    ]\n",
    "    \n",
    "    if not senator_info.empty:\n",
    "        senator_party = senator_info['party'].iloc[0]\n",
    "        print(f\"Senator {senator} is from {senator_state_abbr.upper()} and belongs to party {senator_party}\")\n",
    "        print(f\"Commonality with Biden - State: {'Yes' if senator_state_abbr.lower() == biden_state_abbr.lower() else 'No'}, Party: {'Yes' if senator_party == biden_party else 'No'}\")\n",
    "    else:\n",
    "        print(f\"No information found for Senator {senator}\")\n"
   ]
  },
  {
   "cell_type": "markdown",
   "id": "0bb268cb-c624-4b57-a387-562988f1bb0f",
   "metadata": {
    "tags": []
   },
   "source": [
    "# ii) How do your results change if you apply stemming or lemmatization? In your opinion, which is better to apply: stemming or lemmatization? Why?\n"
   ]
  },
  {
   "cell_type": "code",
   "execution_count": 7,
   "id": "4025e8dd-23a3-45dd-a391-907e18bd5b81",
   "metadata": {
    "tags": []
   },
   "outputs": [],
   "source": [
    "# Initialize stemmer and lemmatizer\n",
    "ps = PorterStemmer()\n",
    "lemmatizer = WordNetLemmatizer()"
   ]
  },
  {
   "cell_type": "code",
   "execution_count": 8,
   "id": "c5cff42d-d647-405d-a6cc-542f8506226c",
   "metadata": {
    "tags": []
   },
   "outputs": [],
   "source": [
    "def preprocess_text(text, use_stemming=False):\n",
    "    \"\"\"Preprocess the text and apply stemming or lemmatization.\"\"\"\n",
    "    tokens = word_tokenize(text.lower())\n",
    "    if use_stemming:\n",
    "        tokens = [ps.stem(token) for token in tokens]\n",
    "    else:\n",
    "        tokens = [lemmatizer.lemmatize(token) for token in tokens]\n",
    "    return ' '.join(tokens)\n",
    "\n",
    "def read_speech(file_path):\n",
    "    \"\"\"Reads a speech from a file.\"\"\"\n",
    "    with open(file_path, 'r') as file:\n",
    "        return file.read()\n",
    "\n",
    "def find_top_similar_speeches(tfidf_matrix, biden_index, filenames, senators_info):\n",
    "    cosine_similarities = cosine_similarity(tfidf_matrix[biden_index:biden_index+1], tfidf_matrix).flatten()\n",
    "    top_indices = cosine_similarities.argsort()[-6:][::-1][1:]  # Skip Biden's own speech\n",
    "    top_speeches_info = []\n",
    "\n",
    "    for index in top_indices:\n",
    "        # Extracting senator's name from filename, adjust this according to your filenames\n",
    "        filename_without_ext = filenames[index].replace('.txt', '')\n",
    "        senator_name_extracted = filename_without_ext.split('-')[1]  # Assuming format '105-lastname-state'\n",
    "        # Match extracted name with senators_info 'name' column\n",
    "        senator_row = senators_info[senators_info['name'].str.contains(senator_name_extracted, case=False)].iloc[0]\n",
    "        top_speeches_info.append({\n",
    "            'Senator': senator_row['name'],\n",
    "            'Party': senator_row['party'],\n",
    "            'Similarity': cosine_similarities[index]\n",
    "        })\n",
    "\n",
    "    return top_speeches_info\n"
   ]
  },
  {
   "cell_type": "code",
   "execution_count": 9,
   "id": "39794d2e-cc34-49a7-afa3-7bc0e060492e",
   "metadata": {
    "tags": []
   },
   "outputs": [
    {
     "name": "stdout",
     "output_type": "stream",
     "text": [
      "Read 100 speeches. Time taken: 0.43s\n"
     ]
    }
   ],
   "source": [
    "# Directory containing the speeches\n",
    "speeches_dir = 'C:/Users/iandr/masters_coding/Second Semester/Python_Programming_Viz_Text/Course_Materials/Inputs/105-extracted-date'\n",
    "speeches = {}\n",
    "start_time = time.time()\n",
    "\n",
    "for file_name in os.listdir(speeches_dir):\n",
    "    if file_name.endswith('.txt'):\n",
    "        file_path = os.path.join(speeches_dir, file_name)\n",
    "        speeches[file_name] = read_speech(file_path)\n",
    "\n",
    "print(f\"Read {len(speeches)} speeches. Time taken: {time.time() - start_time:.2f}s\")\n"
   ]
  },
  {
   "cell_type": "code",
   "execution_count": 10,
   "id": "8c20edee-784d-4ab5-a686-3c0eb72489c2",
   "metadata": {
    "tags": []
   },
   "outputs": [
    {
     "name": "stdout",
     "output_type": "stream",
     "text": [
      "Stemming completed. Time taken: 410.92s\n"
     ]
    }
   ],
   "source": [
    "# Preprocess and vectorize speeches\n",
    "tfidf_vectorizer = TfidfVectorizer()\n",
    "start_time = time.time()\n",
    "preprocessed_speeches_stem = [preprocess_text(speech, use_stemming=True) for speech in speeches.values()]\n",
    "print(f\"Stemming completed. Time taken: {time.time() - start_time:.2f}s\")\n"
   ]
  },
  {
   "cell_type": "code",
   "execution_count": 11,
   "id": "269fc394-04c4-464a-90d5-7bd2775d4798",
   "metadata": {
    "tags": []
   },
   "outputs": [
    {
     "name": "stdout",
     "output_type": "stream",
     "text": [
      "Lemmatization completed. Time taken: 211.90s\n"
     ]
    }
   ],
   "source": [
    "start_time = time.time()\n",
    "preprocessed_speeches_lemmatize = [preprocess_text(speech, use_stemming=False) for speech in speeches.values()]\n",
    "print(f\"Lemmatization completed. Time taken: {time.time() - start_time:.2f}s\")\n"
   ]
  },
  {
   "cell_type": "code",
   "execution_count": 12,
   "id": "259e2ca1-d086-4906-9e1c-320270a78be9",
   "metadata": {
    "tags": []
   },
   "outputs": [
    {
     "name": "stdout",
     "output_type": "stream",
     "text": [
      "TF-IDF vectorization (stemming) completed. Time taken: 11.99s\n"
     ]
    }
   ],
   "source": [
    "# Vectorize the speeches\n",
    "start_time = time.time()\n",
    "tfidf_matrix_stem = tfidf_vectorizer.fit_transform(preprocessed_speeches_stem)\n",
    "print(f\"TF-IDF vectorization (stemming) completed. Time taken: {time.time() - start_time:.2f}s\")\n"
   ]
  },
  {
   "cell_type": "code",
   "execution_count": 13,
   "id": "f852f1f1-3a08-49cd-b2bf-6cab5272f624",
   "metadata": {
    "tags": []
   },
   "outputs": [
    {
     "name": "stdout",
     "output_type": "stream",
     "text": [
      "TF-IDF vectorization (lemmatization) completed. Time taken: 11.88s\n"
     ]
    }
   ],
   "source": [
    "start_time = time.time()\n",
    "tfidf_matrix_lemmatize = tfidf_vectorizer.fit_transform(preprocessed_speeches_lemmatize)\n",
    "print(f\"TF-IDF vectorization (lemmatization) completed. Time taken: {time.time() - start_time:.2f}s\")\n"
   ]
  },
  {
   "cell_type": "code",
   "execution_count": 14,
   "id": "6d031114-f001-453f-8463-07f6fbc72d35",
   "metadata": {
    "tags": []
   },
   "outputs": [],
   "source": [
    "# Assuming Biden's speech is among these\n",
    "biden_index = list(speeches.keys()).index('105-biden-de.txt')\n"
   ]
  },
  {
   "cell_type": "code",
   "execution_count": 15,
   "id": "103a54b6-b0e4-435e-9d9b-3a41abc2e3b1",
   "metadata": {
    "tags": []
   },
   "outputs": [
    {
     "name": "stdout",
     "output_type": "stream",
     "text": [
      "   cong      lname stateab   lstate     id  dist  party\n",
      "0   105   sessions      al  ALABAMA  49700     0    200\n",
      "1   105     shelby      al  ALABAMA  94659     0    200\n",
      "2   105  murkowski      ak  ALASKA   14907     0    200\n",
      "3   105    stevens      ak  ALASKA   12109     0    200\n",
      "4   105        kyl      az  ARIZONA  15429     0    200\n"
     ]
    }
   ],
   "source": [
    "# Define the path to the CSV file\n",
    "metadata_df = \"C:/Users/iandr/masters_coding/Second Semester/Python_Programming_Viz_Text/Course_Materials/Inputs/sen105kh_fix.csv\"\n",
    "\n",
    "# Load the CSV for validation, using ';' as the separator since that's what your file is using.\n",
    "senators_info = pd.read_csv(metadata_df, sep=';')\n",
    "\n",
    "# Let's check the DataFrame to ensure it's loaded correctly\n",
    "print(senators_info.head())\n",
    "\n",
    "# Load the CSV for validation, using ';' as the separator\n",
    "senators_info = pd.read_csv(metadata_df, sep=';')\n",
    "senators_info.columns = ['cong', 'name', 'state_abbr', 'state', 'id', 'dist', 'party']\n"
   ]
  },
  {
   "cell_type": "code",
   "execution_count": 16,
   "id": "e51d1984-94bf-45f2-8914-ac9362d9f39e",
   "metadata": {
    "tags": []
   },
   "outputs": [
    {
     "name": "stdout",
     "output_type": "stream",
     "text": [
      "Top 5 similar speeches to Biden's (Stemming):\n",
      "     Senator  Party  Similarity\n",
      "0      craig    200    0.983739\n",
      "1      glenn    100    0.983167\n",
      "2  lieberman    100    0.982702\n",
      "3     kerrey    100    0.982466\n",
      "4   ashcroft    200    0.982031\n",
      "\n",
      "Top 5 similar speeches to Biden's (Lemmatization):\n",
      "     Senator  Party  Similarity\n",
      "0      kerry    100    0.983961\n",
      "1      craig    200    0.983795\n",
      "2      glenn    100    0.983350\n",
      "3  lieberman    100    0.982831\n",
      "4   ashcroft    200    0.982171\n"
     ]
    }
   ],
   "source": [
    "filenames = list(speeches.keys())\n",
    "\n",
    "top_speeches_info_stem = find_top_similar_speeches(tfidf_matrix_stem, biden_index, list(speeches.keys()), senators_info)\n",
    "df_stem = pd.DataFrame(top_speeches_info_stem)\n",
    "\n",
    "print(\"Top 5 similar speeches to Biden's (Stemming):\")\n",
    "print(df_stem)\n",
    "\n",
    "top_speeches_info_lemmatize = find_top_similar_speeches(tfidf_matrix_lemmatize, biden_index, list(speeches.keys()), senators_info)\n",
    "df_lemmatize = pd.DataFrame(top_speeches_info_lemmatize)\n",
    "\n",
    "print(\"\\nTop 5 similar speeches to Biden's (Lemmatization):\")\n",
    "print(df_lemmatize)\n",
    "\n"
   ]
  },
  {
   "cell_type": "markdown",
   "id": "ac5c88f8-f393-454a-9978-d0692d201e53",
   "metadata": {},
   "source": [
    "# iii) Create at least two visualizations to support your analysis."
   ]
  },
  {
   "cell_type": "code",
   "execution_count": 39,
   "id": "f73f085b-d9d8-464d-97ec-3549996b9474",
   "metadata": {
    "tags": []
   },
   "outputs": [],
   "source": [
    "def add_labels(bars):\n",
    "    for bar in bars:\n",
    "        height = bar.get_height()\n",
    "        ax.annotate(f'{height:.3f}',\n",
    "                    xy=(bar.get_x() + bar.get_width() / 2, height),\n",
    "                    xytext=(0, 3),  # 3 points vertical offset\n",
    "                    textcoords=\"offset points\",\n",
    "                    ha='center', va='bottom')\n"
   ]
  },
  {
   "cell_type": "code",
   "execution_count": 40,
   "id": "729fd3c4-e60e-43b4-98a0-6fee57580624",
   "metadata": {
    "tags": []
   },
   "outputs": [
    {
     "data": {
      "image/png": "[encoded data removed]",
      "text/plain": [
       "<Figure size 1000x600 with 1 Axes>"
      ]
     },
     "metadata": {},
     "output_type": "display_data"
    }
   ],
   "source": [
    "import matplotlib.pyplot as plt\n",
    "\n",
    "# Visualization 1: Comparing Stemming and Lemmatization results with a tighter y-axis\n",
    "fig, ax = plt.subplots(figsize=(10, 6))\n",
    "# Set position of bar on X axis\n",
    "bar_width = 0.35\n",
    "r1 = range(len(df_stem))\n",
    "r2 = [x + bar_width for x in r1]\n",
    "\n",
    "# Make the plot\n",
    "stem_bars = ax.bar(r1, df_stem['Similarity'], color='lightgreen', width=bar_width, edgecolor='grey', label='Stemming')\n",
    "lemmatize_bars = ax.bar(r2, df_lemmatize['Similarity'], color='lightblue', width=bar_width, edgecolor='grey', label='Lemmatization')\n",
    "\n",
    "# Add xticks on the middle of the group bars\n",
    "ax.set_xlabel('')\n",
    "ax.set_xticks([r + bar_width/2 for r in range(len(df_stem))])\n",
    "ax.set_xticklabels(df_stem['Senator'])\n",
    "ax.set_ylabel('')\n",
    "ax.set_title('Similarity to Biden\\'s Speech: Stemming vs Lemmatization')\n",
    "ax.legend()\n",
    "\n",
    "# Set y-axis limit to zoom in on the differences\n",
    "min_similarity = min(df_stem['Similarity'].min(), df_lemmatize['Similarity'].min())\n",
    "max_similarity = max(df_stem['Similarity'].max(), df_lemmatize['Similarity'].max())\n",
    "ax.set_ylim([min_similarity - 0.001, max_similarity + 0.001])  # Adjust buffer as needed\n",
    "\n",
    "# Create labels for the similarities\n",
    "add_labels(stem_bars)\n",
    "add_labels(lemmatize_bars)\n",
    "\n",
    "# Show the plot\n",
    "plt.xticks(rotation=45)\n",
    "plt.tight_layout()\n",
    "plt.show()\n"
   ]
  },
  {
   "cell_type": "code",
   "execution_count": 18,
   "id": "3d760128-6976-46c3-8026-d31f1a27e5b6",
   "metadata": {
    "tags": []
   },
   "outputs": [],
   "source": [
    "# establishing biden's information, party, and state for comparison\n",
    "biden_info = senators_info[senators_info['name'].str.contains('biden')].iloc[0]\n",
    "biden_party = biden_info['party']\n",
    "biden_state = biden_info['state_abbr']\n"
   ]
  },
  {
   "cell_type": "code",
   "execution_count": 19,
   "id": "aaa63c89-9f41-4b53-989b-9178b8c56ce5",
   "metadata": {
    "tags": []
   },
   "outputs": [],
   "source": [
    "def assign_colors(row, biden_party, biden_state):\n",
    "    if row['Party'] == biden_party and row['State'] == biden_state:\n",
    "        return 'green'  # same party and state as Biden\n",
    "    elif row['Party'] == biden_party:\n",
    "        return 'blue'   # same party as Biden\n",
    "    elif row['State'] == biden_state:\n",
    "        return 'cyan'   # same state as Biden\n",
    "    else:\n",
    "        return 'red'    # party nor state matches Biden\n"
   ]
  },
  {
   "cell_type": "code",
   "execution_count": 20,
   "id": "727072eb-e5dd-4f47-a6c3-f7b35b9bddb1",
   "metadata": {
    "tags": []
   },
   "outputs": [],
   "source": [
    "df_stem['State'] = df_stem['Senator'].apply(lambda name: senators_info[senators_info['name'].str.contains(name, case=False)]['state_abbr'].iloc[0])\n",
    "df_lemmatize['State'] = df_lemmatize['Senator'].apply(lambda name: senators_info[senators_info['name'].str.contains(name, case=False)]['state_abbr'].iloc[0])\n"
   ]
  },
  {
   "cell_type": "code",
   "execution_count": 41,
   "id": "7d30868a-bef9-4115-aa1f-4ba76ea4b177",
   "metadata": {
    "tags": []
   },
   "outputs": [
    {
     "data": {
      "image/png": "[encoded data removed]",
      "text/plain": [
       "<Figure size 1000x600 with 1 Axes>"
      ]
     },
     "metadata": {},
     "output_type": "display_data"
    },
    {
     "data": {
      "image/png": "[encoded data removed]",
      "text/plain": [
       "<Figure size 1000x600 with 1 Axes>"
      ]
     },
     "metadata": {},
     "output_type": "display_data"
    }
   ],
   "source": [
    "from matplotlib.patches import Patch\n",
    "\n",
    "# visualizing Stemming with party and state comparison\n",
    "plt.figure(figsize=(10, 6))\n",
    "df_stem['Color'] = df_stem.apply(lambda row: assign_colors(row, biden_party, biden_state), axis=1)\n",
    "stem_bars = plt.bar(df_stem['Senator'], df_stem['Similarity'], color=df_stem['Color'])\n",
    "plt.xlabel('')\n",
    "plt.ylabel('')\n",
    "plt.title('Party and State Comparison to Biden\\'s Speech (Stemming)')\n",
    "plt.ylim([min_similarity - 0.001, max_similarity + 0.001])\n",
    "\n",
    "# creating and adding legend\n",
    "legend_elements = [Patch(facecolor='green', label='Same Party and State as Biden'),\n",
    "                   Patch(facecolor='blue', label='Same Party as Biden'),\n",
    "                   Patch(facecolor='cyan', label='Same State as Biden'),\n",
    "                   Patch(facecolor='red', label='Different Party and State')]\n",
    "plt.legend(handles=legend_elements, title='Legend')\n",
    "\n",
    "# rating x-axis labels and adjusting layout\n",
    "plt.xticks(rotation=45)\n",
    "plt.tight_layout()\n",
    "plt.show()\n",
    "\n",
    "##################################################################################################################\n",
    "\n",
    "# visualizing lemmatizing with party and state comparison\n",
    "plt.figure(figsize=(10, 6))\n",
    "df_lemmatize['Color'] = df_lemmatize.apply(lambda row: assign_colors(row, biden_party, biden_state), axis=1)\n",
    "stem_bars = plt.bar(df_lemmatize['Senator'], df_lemmatize['Similarity'], color=df_lemmatize['Color'])\n",
    "plt.xlabel('')\n",
    "plt.ylabel('')\n",
    "plt.title('Party and State Comparison to Biden\\'s Speech (Lemmatizing)')\n",
    "plt.ylim([min_similarity - 0.001, max_similarity + 0.001])\n",
    "\n",
    "# creating and adding legend\n",
    "legend_elements = [Patch(facecolor='green', label='Same Party and State as Biden'),\n",
    "                   Patch(facecolor='blue', label='Same Party as Biden'),\n",
    "                   Patch(facecolor='cyan', label='Same State as Biden'),\n",
    "                   Patch(facecolor='red', label='Different Party and State')]\n",
    "plt.legend(handles=legend_elements, title='Legend')\n",
    "\n",
    "# rotating x-axis labels and adjusting layout\n",
    "plt.xticks(rotation=45)\n",
    "plt.tight_layout()\n",
    "plt.show()"
   ]
  },
  {
   "cell_type": "markdown",
   "id": "d7bf6602-cc65-42cf-abf2-6699d260c0d0",
   "metadata": {},
   "source": [
    "# iv) Use 'sen105kh_fix.csv' as the target variable for your predictions. Can you predict the party of the senator from their speech? Should you use the same text preprocessing as above? Justify your choices."
   ]
  },
  {
   "cell_type": "code",
   "execution_count": 35,
   "id": "0bd53ee7-5981-41af-a4c0-e73b39c31af9",
   "metadata": {},
   "outputs": [],
   "source": [
    "X = tfidf_matrix_lemmatize\n",
    "\n",
    "y = senators_info[\"party\"]"
   ]
  },
  {
   "cell_type": "code",
   "execution_count": 36,
   "id": "a607d1b0-9e4f-4cce-b50c-37d3af4371fc",
   "metadata": {
    "tags": []
   },
   "outputs": [],
   "source": [
    "from sklearn.model_selection import train_test_split\n",
    "\n",
    "X_train, X_test, y_train, y_test = train_test_split(X, y, test_size=0.2, random_state=42)\n"
   ]
  },
  {
   "cell_type": "code",
   "execution_count": 37,
   "id": "2c805163-37d4-48b0-91b5-bf7ef20428ba",
   "metadata": {
    "tags": []
   },
   "outputs": [
    {
     "data": {
      "text/html": [
       "<style>#sk-container-id-3 {\n",
       "  /* Definition of color scheme common for light and dark mode */\n",
       "  --sklearn-color-text: black;\n",
       "  --sklearn-color-line: gray;\n",
       "  /* Definition of color scheme for unfitted estimators */\n",
       "  --sklearn-color-unfitted-level-0: #fff5e6;\n",
       "  --sklearn-color-unfitted-level-1: #f6e4d2;\n",
       "  --sklearn-color-unfitted-level-2: #ffe0b3;\n",
       "  --sklearn-color-unfitted-level-3: chocolate;\n",
       "  /* Definition of color scheme for fitted estimators */\n",
       "  --sklearn-color-fitted-level-0: #f0f8ff;\n",
       "  --sklearn-color-fitted-level-1: #d4ebff;\n",
       "  --sklearn-color-fitted-level-2: #b3dbfd;\n",
       "  --sklearn-color-fitted-level-3: cornflowerblue;\n",
       "\n",
       "  /* Specific color for light theme */\n",
       "  --sklearn-color-text-on-default-background: var(--sg-text-color, var(--theme-code-foreground, var(--jp-content-font-color1, black)));\n",
       "  --sklearn-color-background: var(--sg-background-color, var(--theme-background, var(--jp-layout-color0, white)));\n",
       "  --sklearn-color-border-box: var(--sg-text-color, var(--theme-code-foreground, var(--jp-content-font-color1, black)));\n",
       "  --sklearn-color-icon: #696969;\n",
       "\n",
       "  @media (prefers-color-scheme: dark) {\n",
       "    /* Redefinition of color scheme for dark theme */\n",
       "    --sklearn-color-text-on-default-background: var(--sg-text-color, var(--theme-code-foreground, var(--jp-content-font-color1, white)));\n",
       "    --sklearn-color-background: var(--sg-background-color, var(--theme-background, var(--jp-layout-color0, #111)));\n",
       "    --sklearn-color-border-box: var(--sg-text-color, var(--theme-code-foreground, var(--jp-content-font-color1, white)));\n",
       "    --sklearn-color-icon: #878787;\n",
       "  }\n",
       "}\n",
       "\n",
       "#sk-container-id-3 {\n",
       "  color: var(--sklearn-color-text);\n",
       "}\n",
       "\n",
       "#sk-container-id-3 pre {\n",
       "  padding: 0;\n",
       "}\n",
       "\n",
       "#sk-container-id-3 input.sk-hidden--visually {\n",
       "  border: 0;\n",
       "  clip: rect(1px 1px 1px 1px);\n",
       "  clip: rect(1px, 1px, 1px, 1px);\n",
       "  height: 1px;\n",
       "  margin: -1px;\n",
       "  overflow: hidden;\n",
       "  padding: 0;\n",
       "  position: absolute;\n",
       "  width: 1px;\n",
       "}\n",
       "\n",
       "#sk-container-id-3 div.sk-dashed-wrapped {\n",
       "  border: 1px dashed var(--sklearn-color-line);\n",
       "  margin: 0 0.4em 0.5em 0.4em;\n",
       "  box-sizing: border-box;\n",
       "  padding-bottom: 0.4em;\n",
       "  background-color: var(--sklearn-color-background);\n",
       "}\n",
       "\n",
       "#sk-container-id-3 div.sk-container {\n",
       "  /* jupyter's `normalize.less` sets `[hidden] { display: none; }`\n",
       "     but bootstrap.min.css set `[hidden] { display: none !important; }`\n",
       "     so we also need the `!important` here to be able to override the\n",
       "     default hidden behavior on the sphinx rendered scikit-learn.org.\n",
       "     See: https://github.com/scikit-learn/scikit-learn/issues/21755 */\n",
       "  display: inline-block !important;\n",
       "  position: relative;\n",
       "}\n",
       "\n",
       "#sk-container-id-3 div.sk-text-repr-fallback {\n",
       "  display: none;\n",
       "}\n",
       "\n",
       "div.sk-parallel-item,\n",
       "div.sk-serial,\n",
       "div.sk-item {\n",
       "  /* draw centered vertical line to link estimators */\n",
       "  background-image: linear-gradient(var(--sklearn-color-text-on-default-background), var(--sklearn-color-text-on-default-background));\n",
       "  background-size: 2px 100%;\n",
       "  background-repeat: no-repeat;\n",
       "  background-position: center center;\n",
       "}\n",
       "\n",
       "/* Parallel-specific style estimator block */\n",
       "\n",
       "#sk-container-id-3 div.sk-parallel-item::after {\n",
       "  content: \"\";\n",
       "  width: 100%;\n",
       "  border-bottom: 2px solid var(--sklearn-color-text-on-default-background);\n",
       "  flex-grow: 1;\n",
       "}\n",
       "\n",
       "#sk-container-id-3 div.sk-parallel {\n",
       "  display: flex;\n",
       "  align-items: stretch;\n",
       "  justify-content: center;\n",
       "  background-color: var(--sklearn-color-background);\n",
       "  position: relative;\n",
       "}\n",
       "\n",
       "#sk-container-id-3 div.sk-parallel-item {\n",
       "  display: flex;\n",
       "  flex-direction: column;\n",
       "}\n",
       "\n",
       "#sk-container-id-3 div.sk-parallel-item:first-child::after {\n",
       "  align-self: flex-end;\n",
       "  width: 50%;\n",
       "}\n",
       "\n",
       "#sk-container-id-3 div.sk-parallel-item:last-child::after {\n",
       "  align-self: flex-start;\n",
       "  width: 50%;\n",
       "}\n",
       "\n",
       "#sk-container-id-3 div.sk-parallel-item:only-child::after {\n",
       "  width: 0;\n",
       "}\n",
       "\n",
       "/* Serial-specific style estimator block */\n",
       "\n",
       "#sk-container-id-3 div.sk-serial {\n",
       "  display: flex;\n",
       "  flex-direction: column;\n",
       "  align-items: center;\n",
       "  background-color: var(--sklearn-color-background);\n",
       "  padding-right: 1em;\n",
       "  padding-left: 1em;\n",
       "}\n",
       "\n",
       "\n",
       "/* Toggleable style: style used for estimator/Pipeline/ColumnTransformer box that is\n",
       "clickable and can be expanded/collapsed.\n",
       "- Pipeline and ColumnTransformer use this feature and define the default style\n",
       "- Estimators will overwrite some part of the style using the `sk-estimator` class\n",
       "*/\n",
       "\n",
       "/* Pipeline and ColumnTransformer style (default) */\n",
       "\n",
       "#sk-container-id-3 div.sk-toggleable {\n",
       "  /* Default theme specific background. It is overwritten whether we have a\n",
       "  specific estimator or a Pipeline/ColumnTransformer */\n",
       "  background-color: var(--sklearn-color-background);\n",
       "}\n",
       "\n",
       "/* Toggleable label */\n",
       "#sk-container-id-3 label.sk-toggleable__label {\n",
       "  cursor: pointer;\n",
       "  display: block;\n",
       "  width: 100%;\n",
       "  margin-bottom: 0;\n",
       "  padding: 0.5em;\n",
       "  box-sizing: border-box;\n",
       "  text-align: center;\n",
       "}\n",
       "\n",
       "#sk-container-id-3 label.sk-toggleable__label-arrow:before {\n",
       "  /* Arrow on the left of the label */\n",
       "  content: \"▸\";\n",
       "  float: left;\n",
       "  margin-right: 0.25em;\n",
       "  color: var(--sklearn-color-icon);\n",
       "}\n",
       "\n",
       "#sk-container-id-3 label.sk-toggleable__label-arrow:hover:before {\n",
       "  color: var(--sklearn-color-text);\n",
       "}\n",
       "\n",
       "/* Toggleable content - dropdown */\n",
       "\n",
       "#sk-container-id-3 div.sk-toggleable__content {\n",
       "  max-height: 0;\n",
       "  max-width: 0;\n",
       "  overflow: hidden;\n",
       "  text-align: left;\n",
       "  /* unfitted */\n",
       "  background-color: var(--sklearn-color-unfitted-level-0);\n",
       "}\n",
       "\n",
       "#sk-container-id-3 div.sk-toggleable__content.fitted {\n",
       "  /* fitted */\n",
       "  background-color: var(--sklearn-color-fitted-level-0);\n",
       "}\n",
       "\n",
       "#sk-container-id-3 div.sk-toggleable__content pre {\n",
       "  margin: 0.2em;\n",
       "  border-radius: 0.25em;\n",
       "  color: var(--sklearn-color-text);\n",
       "  /* unfitted */\n",
       "  background-color: var(--sklearn-color-unfitted-level-0);\n",
       "}\n",
       "\n",
       "#sk-container-id-3 div.sk-toggleable__content.fitted pre {\n",
       "  /* unfitted */\n",
       "  background-color: var(--sklearn-color-fitted-level-0);\n",
       "}\n",
       "\n",
       "#sk-container-id-3 input.sk-toggleable__control:checked~div.sk-toggleable__content {\n",
       "  /* Expand drop-down */\n",
       "  max-height: 200px;\n",
       "  max-width: 100%;\n",
       "  overflow: auto;\n",
       "}\n",
       "\n",
       "#sk-container-id-3 input.sk-toggleable__control:checked~label.sk-toggleable__label-arrow:before {\n",
       "  content: \"▾\";\n",
       "}\n",
       "\n",
       "/* Pipeline/ColumnTransformer-specific style */\n",
       "\n",
       "#sk-container-id-3 div.sk-label input.sk-toggleable__control:checked~label.sk-toggleable__label {\n",
       "  color: var(--sklearn-color-text);\n",
       "  background-color: var(--sklearn-color-unfitted-level-2);\n",
       "}\n",
       "\n",
       "#sk-container-id-3 div.sk-label.fitted input.sk-toggleable__control:checked~label.sk-toggleable__label {\n",
       "  background-color: var(--sklearn-color-fitted-level-2);\n",
       "}\n",
       "\n",
       "/* Estimator-specific style */\n",
       "\n",
       "/* Colorize estimator box */\n",
       "#sk-container-id-3 div.sk-estimator input.sk-toggleable__control:checked~label.sk-toggleable__label {\n",
       "  /* unfitted */\n",
       "  background-color: var(--sklearn-color-unfitted-level-2);\n",
       "}\n",
       "\n",
       "#sk-container-id-3 div.sk-estimator.fitted input.sk-toggleable__control:checked~label.sk-toggleable__label {\n",
       "  /* fitted */\n",
       "  background-color: var(--sklearn-color-fitted-level-2);\n",
       "}\n",
       "\n",
       "#sk-container-id-3 div.sk-label label.sk-toggleable__label,\n",
       "#sk-container-id-3 div.sk-label label {\n",
       "  /* The background is the default theme color */\n",
       "  color: var(--sklearn-color-text-on-default-background);\n",
       "}\n",
       "\n",
       "/* On hover, darken the color of the background */\n",
       "#sk-container-id-3 div.sk-label:hover label.sk-toggleable__label {\n",
       "  color: var(--sklearn-color-text);\n",
       "  background-color: var(--sklearn-color-unfitted-level-2);\n",
       "}\n",
       "\n",
       "/* Label box, darken color on hover, fitted */\n",
       "#sk-container-id-3 div.sk-label.fitted:hover label.sk-toggleable__label.fitted {\n",
       "  color: var(--sklearn-color-text);\n",
       "  background-color: var(--sklearn-color-fitted-level-2);\n",
       "}\n",
       "\n",
       "/* Estimator label */\n",
       "\n",
       "#sk-container-id-3 div.sk-label label {\n",
       "  font-family: monospace;\n",
       "  font-weight: bold;\n",
       "  display: inline-block;\n",
       "  line-height: 1.2em;\n",
       "}\n",
       "\n",
       "#sk-container-id-3 div.sk-label-container {\n",
       "  text-align: center;\n",
       "}\n",
       "\n",
       "/* Estimator-specific */\n",
       "#sk-container-id-3 div.sk-estimator {\n",
       "  font-family: monospace;\n",
       "  border: 1px dotted var(--sklearn-color-border-box);\n",
       "  border-radius: 0.25em;\n",
       "  box-sizing: border-box;\n",
       "  margin-bottom: 0.5em;\n",
       "  /* unfitted */\n",
       "  background-color: var(--sklearn-color-unfitted-level-0);\n",
       "}\n",
       "\n",
       "#sk-container-id-3 div.sk-estimator.fitted {\n",
       "  /* fitted */\n",
       "  background-color: var(--sklearn-color-fitted-level-0);\n",
       "}\n",
       "\n",
       "/* on hover */\n",
       "#sk-container-id-3 div.sk-estimator:hover {\n",
       "  /* unfitted */\n",
       "  background-color: var(--sklearn-color-unfitted-level-2);\n",
       "}\n",
       "\n",
       "#sk-container-id-3 div.sk-estimator.fitted:hover {\n",
       "  /* fitted */\n",
       "  background-color: var(--sklearn-color-fitted-level-2);\n",
       "}\n",
       "\n",
       "/* Specification for estimator info (e.g. \"i\" and \"?\") */\n",
       "\n",
       "/* Common style for \"i\" and \"?\" */\n",
       "\n",
       ".sk-estimator-doc-link,\n",
       "a:link.sk-estimator-doc-link,\n",
       "a:visited.sk-estimator-doc-link {\n",
       "  float: right;\n",
       "  font-size: smaller;\n",
       "  line-height: 1em;\n",
       "  font-family: monospace;\n",
       "  background-color: var(--sklearn-color-background);\n",
       "  border-radius: 1em;\n",
       "  height: 1em;\n",
       "  width: 1em;\n",
       "  text-decoration: none !important;\n",
       "  margin-left: 1ex;\n",
       "  /* unfitted */\n",
       "  border: var(--sklearn-color-unfitted-level-1) 1pt solid;\n",
       "  color: var(--sklearn-color-unfitted-level-1);\n",
       "}\n",
       "\n",
       ".sk-estimator-doc-link.fitted,\n",
       "a:link.sk-estimator-doc-link.fitted,\n",
       "a:visited.sk-estimator-doc-link.fitted {\n",
       "  /* fitted */\n",
       "  border: var(--sklearn-color-fitted-level-1) 1pt solid;\n",
       "  color: var(--sklearn-color-fitted-level-1);\n",
       "}\n",
       "\n",
       "/* On hover */\n",
       "div.sk-estimator:hover .sk-estimator-doc-link:hover,\n",
       ".sk-estimator-doc-link:hover,\n",
       "div.sk-label-container:hover .sk-estimator-doc-link:hover,\n",
       ".sk-estimator-doc-link:hover {\n",
       "  /* unfitted */\n",
       "  background-color: var(--sklearn-color-unfitted-level-3);\n",
       "  color: var(--sklearn-color-background);\n",
       "  text-decoration: none;\n",
       "}\n",
       "\n",
       "div.sk-estimator.fitted:hover .sk-estimator-doc-link.fitted:hover,\n",
       ".sk-estimator-doc-link.fitted:hover,\n",
       "div.sk-label-container:hover .sk-estimator-doc-link.fitted:hover,\n",
       ".sk-estimator-doc-link.fitted:hover {\n",
       "  /* fitted */\n",
       "  background-color: var(--sklearn-color-fitted-level-3);\n",
       "  color: var(--sklearn-color-background);\n",
       "  text-decoration: none;\n",
       "}\n",
       "\n",
       "/* Span, style for the box shown on hovering the info icon */\n",
       ".sk-estimator-doc-link span {\n",
       "  display: none;\n",
       "  z-index: 9999;\n",
       "  position: relative;\n",
       "  font-weight: normal;\n",
       "  right: .2ex;\n",
       "  padding: .5ex;\n",
       "  margin: .5ex;\n",
       "  width: min-content;\n",
       "  min-width: 20ex;\n",
       "  max-width: 50ex;\n",
       "  color: var(--sklearn-color-text);\n",
       "  box-shadow: 2pt 2pt 4pt #999;\n",
       "  /* unfitted */\n",
       "  background: var(--sklearn-color-unfitted-level-0);\n",
       "  border: .5pt solid var(--sklearn-color-unfitted-level-3);\n",
       "}\n",
       "\n",
       ".sk-estimator-doc-link.fitted span {\n",
       "  /* fitted */\n",
       "  background: var(--sklearn-color-fitted-level-0);\n",
       "  border: var(--sklearn-color-fitted-level-3);\n",
       "}\n",
       "\n",
       ".sk-estimator-doc-link:hover span {\n",
       "  display: block;\n",
       "}\n",
       "\n",
       "/* \"?\"-specific style due to the `<a>` HTML tag */\n",
       "\n",
       "#sk-container-id-3 a.estimator_doc_link {\n",
       "  float: right;\n",
       "  font-size: 1rem;\n",
       "  line-height: 1em;\n",
       "  font-family: monospace;\n",
       "  background-color: var(--sklearn-color-background);\n",
       "  border-radius: 1rem;\n",
       "  height: 1rem;\n",
       "  width: 1rem;\n",
       "  text-decoration: none;\n",
       "  /* unfitted */\n",
       "  color: var(--sklearn-color-unfitted-level-1);\n",
       "  border: var(--sklearn-color-unfitted-level-1) 1pt solid;\n",
       "}\n",
       "\n",
       "#sk-container-id-3 a.estimator_doc_link.fitted {\n",
       "  /* fitted */\n",
       "  border: var(--sklearn-color-fitted-level-1) 1pt solid;\n",
       "  color: var(--sklearn-color-fitted-level-1);\n",
       "}\n",
       "\n",
       "/* On hover */\n",
       "#sk-container-id-3 a.estimator_doc_link:hover {\n",
       "  /* unfitted */\n",
       "  background-color: var(--sklearn-color-unfitted-level-3);\n",
       "  color: var(--sklearn-color-background);\n",
       "  text-decoration: none;\n",
       "}\n",
       "\n",
       "#sk-container-id-3 a.estimator_doc_link.fitted:hover {\n",
       "  /* fitted */\n",
       "  background-color: var(--sklearn-color-fitted-level-3);\n",
       "}\n",
       "</style><div id=\"sk-container-id-3\" class=\"sk-top-container\"><div class=\"sk-text-repr-fallback\"><pre>MultinomialNB()</pre><b>In a Jupyter environment, please rerun this cell to show the HTML representation or trust the notebook. <br />On GitHub, the HTML representation is unable to render, please try loading this page with nbviewer.org.</b></div><div class=\"sk-container\" hidden><div class=\"sk-item\"><div class=\"sk-estimator fitted sk-toggleable\"><input class=\"sk-toggleable__control sk-hidden--visually\" id=\"sk-estimator-id-3\" type=\"checkbox\" checked><label for=\"sk-estimator-id-3\" class=\"sk-toggleable__label fitted sk-toggleable__label-arrow fitted\">&nbsp;&nbsp;MultinomialNB<a class=\"sk-estimator-doc-link fitted\" rel=\"noreferrer\" target=\"_blank\" href=\"https://scikit-learn.org/1.4/modules/generated/sklearn.naive_bayes.MultinomialNB.html\">?<span>Documentation for MultinomialNB</span></a><span class=\"sk-estimator-doc-link fitted\">i<span>Fitted</span></span></label><div class=\"sk-toggleable__content fitted\"><pre>MultinomialNB()</pre></div> </div></div></div></div>"
      ],
      "text/plain": [
       "MultinomialNB()"
      ]
     },
     "execution_count": 37,
     "metadata": {},
     "output_type": "execute_result"
    }
   ],
   "source": [
    "from sklearn.naive_bayes import MultinomialNB\n",
    "\n",
    "# Initialize the Multinomial Naive Bayes classifier\n",
    "model = MultinomialNB()\n",
    "\n",
    "# Train the model\n",
    "model.fit(X_train, y_train)\n"
   ]
  },
  {
   "cell_type": "code",
   "execution_count": 38,
   "id": "2fe064f3-164e-4d41-8752-49f462c90ecb",
   "metadata": {
    "tags": []
   },
   "outputs": [
    {
     "name": "stdout",
     "output_type": "stream",
     "text": [
      "Accuracy: 0.55\n",
      "              precision    recall  f1-score   support\n",
      "\n",
      "         100       0.00      0.00      0.00         9\n",
      "         200       0.55      1.00      0.71        11\n",
      "\n",
      "    accuracy                           0.55        20\n",
      "   macro avg       0.28      0.50      0.35        20\n",
      "weighted avg       0.30      0.55      0.39        20\n",
      "\n"
     ]
    },
    {
     "name": "stderr",
     "output_type": "stream",
     "text": [
      "C:\\Users\\iandr\\anaconda3\\Lib\\site-packages\\sklearn\\metrics\\_classification.py:1509: UndefinedMetricWarning: Precision is ill-defined and being set to 0.0 in labels with no predicted samples. Use `zero_division` parameter to control this behavior.\n",
      "  _warn_prf(average, modifier, f\"{metric.capitalize()} is\", len(result))\n",
      "C:\\Users\\iandr\\anaconda3\\Lib\\site-packages\\sklearn\\metrics\\_classification.py:1509: UndefinedMetricWarning: Precision is ill-defined and being set to 0.0 in labels with no predicted samples. Use `zero_division` parameter to control this behavior.\n",
      "  _warn_prf(average, modifier, f\"{metric.capitalize()} is\", len(result))\n",
      "C:\\Users\\iandr\\anaconda3\\Lib\\site-packages\\sklearn\\metrics\\_classification.py:1509: UndefinedMetricWarning: Precision is ill-defined and being set to 0.0 in labels with no predicted samples. Use `zero_division` parameter to control this behavior.\n",
      "  _warn_prf(average, modifier, f\"{metric.capitalize()} is\", len(result))\n"
     ]
    }
   ],
   "source": [
    "from sklearn.metrics import accuracy_score, classification_report\n",
    "\n",
    "# Predict the party for the test set\n",
    "y_pred = model.predict(X_test)\n",
    "\n",
    "# Evaluate the model\n",
    "print(\"Accuracy:\", accuracy_score(y_test, y_pred))\n",
    "print(classification_report(y_test, y_pred))\n"
   ]
  },
  {
   "cell_type": "code",
   "execution_count": null,
   "id": "227f312a-3c45-4061-a1a6-c293cc390d52",
   "metadata": {},
   "outputs": [],
   "source": []
  },
  {
   "cell_type": "code",
   "execution_count": null,
   "id": "dcc59709-2ea6-4bd2-9811-08875af6a968",
   "metadata": {},
   "outputs": [],
   "source": []
  }
 ],
 "metadata": {
  "kernelspec": {
   "display_name": "Python 3 (ipykernel)",
   "language": "python",
   "name": "python3"
  },
  "language_info": {
   "codemirror_mode": {
    "name": "ipython",
    "version": 3
   },
   "file_extension": ".py",
   "mimetype": "text/x-python",
   "name": "python",
   "nbconvert_exporter": "python",
   "pygments_lexer": "ipython3",
   "version": "3.11.4"
  }
 },
 "nbformat": 4,
 "nbformat_minor": 5
}
